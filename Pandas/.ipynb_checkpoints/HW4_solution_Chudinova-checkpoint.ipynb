{
 "cells": [
  {
   "cell_type": "markdown",
   "metadata": {},
   "source": [
    "##### Задания не несут смысловой нагрузки для реальной жизни, они сделаны лишь для того, чтоб научить использовать Pandas"
   ]
  },
  {
   "cell_type": "markdown",
   "metadata": {},
   "source": [
    "This database contains 76 attributes, but all published experiments refer to using a subset of 14 of them. In particular, the Cleveland database is the only one that has been used by ML researchers to this date. The \"goal\" field refers to the presence of heart disease in the patient. It is integer valued from 0 (no presence) to 1."
   ]
  },
  {
   "cell_type": "markdown",
   "metadata": {},
   "source": [
    "https://www.kaggle.com/ronitf/heart-disease-uci"
   ]
  },
  {
   "cell_type": "markdown",
   "metadata": {},
   "source": [
    "___"
   ]
  },
  {
   "cell_type": "code",
   "execution_count": 1,
   "metadata": {},
   "outputs": [],
   "source": [
    "import pandas as pd\n",
    "import numpy as np"
   ]
  },
  {
   "cell_type": "code",
   "execution_count": 2,
   "metadata": {},
   "outputs": [],
   "source": [
    "data = pd.read_csv(\"heart_pandas.csv\")"
   ]
  },
  {
   "cell_type": "code",
   "execution_count": 3,
   "metadata": {},
   "outputs": [
    {
     "data": {
      "text/html": [
       "<div>\n",
       "<style scoped>\n",
       "    .dataframe tbody tr th:only-of-type {\n",
       "        vertical-align: middle;\n",
       "    }\n",
       "\n",
       "    .dataframe tbody tr th {\n",
       "        vertical-align: top;\n",
       "    }\n",
       "\n",
       "    .dataframe thead th {\n",
       "        text-align: right;\n",
       "    }\n",
       "</style>\n",
       "<table border=\"1\" class=\"dataframe\">\n",
       "  <thead>\n",
       "    <tr style=\"text-align: right;\">\n",
       "      <th></th>\n",
       "      <th>age</th>\n",
       "      <th>sex</th>\n",
       "      <th>chest_pain_type</th>\n",
       "      <th>resting_blood_pressure</th>\n",
       "      <th>cholesterol</th>\n",
       "      <th>fasting_blood_sugar</th>\n",
       "      <th>rest_ecg</th>\n",
       "      <th>max_heart_rate_achieved</th>\n",
       "      <th>exercise_induced_angina</th>\n",
       "      <th>st_depression</th>\n",
       "      <th>st_slope</th>\n",
       "      <th>num_major_vessels</th>\n",
       "      <th>thalassemia</th>\n",
       "      <th>target</th>\n",
       "    </tr>\n",
       "  </thead>\n",
       "  <tbody>\n",
       "    <tr>\n",
       "      <th>0</th>\n",
       "      <td>63</td>\n",
       "      <td>male</td>\n",
       "      <td>non-anginal pain</td>\n",
       "      <td>145</td>\n",
       "      <td>233</td>\n",
       "      <td>greater than 120mg/ml</td>\n",
       "      <td>normal</td>\n",
       "      <td>150</td>\n",
       "      <td>no</td>\n",
       "      <td>2.3</td>\n",
       "      <td>upsloping</td>\n",
       "      <td>0</td>\n",
       "      <td>normal</td>\n",
       "      <td>1</td>\n",
       "    </tr>\n",
       "    <tr>\n",
       "      <th>1</th>\n",
       "      <td>37</td>\n",
       "      <td>male</td>\n",
       "      <td>atypical angina</td>\n",
       "      <td>130</td>\n",
       "      <td>250</td>\n",
       "      <td>lower than 120mg/ml</td>\n",
       "      <td>ST-T wave abnormality</td>\n",
       "      <td>187</td>\n",
       "      <td>no</td>\n",
       "      <td>3.5</td>\n",
       "      <td>upsloping</td>\n",
       "      <td>0</td>\n",
       "      <td>fixed defect</td>\n",
       "      <td>1</td>\n",
       "    </tr>\n",
       "    <tr>\n",
       "      <th>2</th>\n",
       "      <td>41</td>\n",
       "      <td>female</td>\n",
       "      <td>typical angina</td>\n",
       "      <td>130</td>\n",
       "      <td>204</td>\n",
       "      <td>lower than 120mg/ml</td>\n",
       "      <td>normal</td>\n",
       "      <td>172</td>\n",
       "      <td>no</td>\n",
       "      <td>1.4</td>\n",
       "      <td>flat</td>\n",
       "      <td>0</td>\n",
       "      <td>fixed defect</td>\n",
       "      <td>1</td>\n",
       "    </tr>\n",
       "    <tr>\n",
       "      <th>3</th>\n",
       "      <td>56</td>\n",
       "      <td>male</td>\n",
       "      <td>typical angina</td>\n",
       "      <td>120</td>\n",
       "      <td>236</td>\n",
       "      <td>lower than 120mg/ml</td>\n",
       "      <td>ST-T wave abnormality</td>\n",
       "      <td>178</td>\n",
       "      <td>no</td>\n",
       "      <td>0.8</td>\n",
       "      <td>flat</td>\n",
       "      <td>0</td>\n",
       "      <td>fixed defect</td>\n",
       "      <td>1</td>\n",
       "    </tr>\n",
       "    <tr>\n",
       "      <th>4</th>\n",
       "      <td>57</td>\n",
       "      <td>female</td>\n",
       "      <td>typical angina</td>\n",
       "      <td>120</td>\n",
       "      <td>354</td>\n",
       "      <td>lower than 120mg/ml</td>\n",
       "      <td>ST-T wave abnormality</td>\n",
       "      <td>163</td>\n",
       "      <td>yes</td>\n",
       "      <td>0.6</td>\n",
       "      <td>flat</td>\n",
       "      <td>0</td>\n",
       "      <td>fixed defect</td>\n",
       "      <td>1</td>\n",
       "    </tr>\n",
       "  </tbody>\n",
       "</table>\n",
       "</div>"
      ],
      "text/plain": [
       "   age     sex   chest_pain_type  resting_blood_pressure  cholesterol  \\\n",
       "0   63    male  non-anginal pain                     145          233   \n",
       "1   37    male   atypical angina                     130          250   \n",
       "2   41  female    typical angina                     130          204   \n",
       "3   56    male    typical angina                     120          236   \n",
       "4   57  female    typical angina                     120          354   \n",
       "\n",
       "     fasting_blood_sugar               rest_ecg  max_heart_rate_achieved  \\\n",
       "0  greater than 120mg/ml                 normal                      150   \n",
       "1    lower than 120mg/ml  ST-T wave abnormality                      187   \n",
       "2    lower than 120mg/ml                 normal                      172   \n",
       "3    lower than 120mg/ml  ST-T wave abnormality                      178   \n",
       "4    lower than 120mg/ml  ST-T wave abnormality                      163   \n",
       "\n",
       "  exercise_induced_angina  st_depression   st_slope  num_major_vessels  \\\n",
       "0                      no            2.3  upsloping                  0   \n",
       "1                      no            3.5  upsloping                  0   \n",
       "2                      no            1.4       flat                  0   \n",
       "3                      no            0.8       flat                  0   \n",
       "4                     yes            0.6       flat                  0   \n",
       "\n",
       "    thalassemia  target  \n",
       "0        normal       1  \n",
       "1  fixed defect       1  \n",
       "2  fixed defect       1  \n",
       "3  fixed defect       1  \n",
       "4  fixed defect       1  "
      ]
     },
     "execution_count": 3,
     "metadata": {},
     "output_type": "execute_result"
    }
   ],
   "source": [
    "# Хочу посмотреть первые пять строк - что в файле\n",
    "data.head()"
   ]
  },
  {
   "cell_type": "code",
   "execution_count": 4,
   "metadata": {},
   "outputs": [
    {
     "data": {
      "text/plain": [
       "age                          int64\n",
       "sex                         object\n",
       "chest_pain_type             object\n",
       "resting_blood_pressure       int64\n",
       "cholesterol                  int64\n",
       "fasting_blood_sugar         object\n",
       "rest_ecg                    object\n",
       "max_heart_rate_achieved      int64\n",
       "exercise_induced_angina     object\n",
       "st_depression              float64\n",
       "st_slope                    object\n",
       "num_major_vessels            int64\n",
       "thalassemia                 object\n",
       "target                       int64\n",
       "dtype: object"
      ]
     },
     "execution_count": 4,
     "metadata": {},
     "output_type": "execute_result"
    }
   ],
   "source": [
    "# Хочу посмотреть типы данных в колонках\n",
    "data.dtypes"
   ]
  },
  {
   "cell_type": "markdown",
   "metadata": {},
   "source": [
    "#### Описание признаков"
   ]
  },
  {
   "cell_type": "markdown",
   "metadata": {},
   "source": [
    "**age**: The person's age in years\n",
    "\n",
    "**sex**: The person's sex (1 = male, 0 = female)\n",
    "\n",
    "**cp**: The chest pain experienced (Value 1: typical angina, Value 2: atypical angina, Value 3: non-anginal pain, Value 4: asymptomatic)\n",
    "\n",
    "**restbps**: The person's resting blood pressure (mm Hg on admission to the hospital)\n",
    "\n",
    "**chol**: The person's cholesterol measurement in mg/dl\n",
    "\n",
    "**fbs**: The person's fasting blood sugar (> 120 mg/dl, 1 = true; 0 = false)\n",
    "\n",
    "**restecg**: Resting electrocardiographic measurement (0 = normal, 1 = having ST-T wave abnormality, 2 = showing probable or definite left ventricular hypertrophy by Estes' criteria)\n",
    "\n",
    "**thalach**: The person's maximum heart rate achieved\n",
    "\n",
    "**exang**: Exercise induced angina (1 = yes; 0 = no)\n",
    "\n",
    "**oldpeak**: ST depression induced by exercise relative to rest ('ST' relates to positions on the ECG plot. See more here)\n",
    "\n",
    "**slope**: the slope of the peak exercise ST segment (Value 1: upsloping, Value 2: flat, Value 3: downsloping)\n",
    "\n",
    "**ca**: The number of major vessels (0-3)\n",
    "\n",
    "**thal**: A blood disorder called thalassemia (3 = normal; 6 = fixed defect; 7 = reversable defect)\n",
    "\n",
    "**target**: Heart disease (0 = no, 1 = yes)"
   ]
  },
  {
   "cell_type": "markdown",
   "metadata": {},
   "source": [
    "> 1. age \n",
    "> 2. sex \n",
    "> 3. chest pain type (4 values) \n",
    "> 4. resting blood pressure \n",
    "> 5. serum cholestoral in mg/dl \n",
    "> 6. fasting blood sugar > 120 mg/dl\n",
    "> 7. resting electrocardiographic results (values 0,1,2)\n",
    "> 8. maximum heart rate achieved \n",
    "> 9. exercise induced angina \n",
    "> 10. oldpeak = ST depression induced by exercise relative to rest \n",
    "> 11. the slope of the peak exercise ST segment \n",
    "> 12. number of major vessels (0-3) colored by flourosopy \n",
    "> 13. thal: 3 = normal; 6 = fixed defect; 7 = reversable defect"
   ]
  },
  {
   "cell_type": "markdown",
   "metadata": {},
   "source": [
    "___"
   ]
  },
  {
   "cell_type": "markdown",
   "metadata": {},
   "source": [
    "#### 1. Сколько мужчин в датасете? Сколько женщен? (sex)"
   ]
  },
  {
   "cell_type": "code",
   "execution_count": 5,
   "metadata": {},
   "outputs": [
    {
     "data": {
      "text/plain": [
       "male      207\n",
       "female     96\n",
       "Name: sex, dtype: int64"
      ]
     },
     "execution_count": 5,
     "metadata": {},
     "output_type": "execute_result"
    }
   ],
   "source": [
    "data.sex.value_counts()"
   ]
  },
  {
   "cell_type": "markdown",
   "metadata": {},
   "source": [
    "#### 2. Какой процент мужчин в датасете? (решите в одну строчку, не используя предыдущий результат. Не забудте знак процента) "
   ]
  },
  {
   "cell_type": "code",
   "execution_count": 6,
   "metadata": {},
   "outputs": [
    {
     "data": {
      "text/plain": [
       "male    68.32 %\n",
       "Name: sex, dtype: object"
      ]
     },
     "execution_count": 6,
     "metadata": {},
     "output_type": "execute_result"
    }
   ],
   "source": [
    "data.sex.value_counts(normalize=True).mul(100).round(2).loc[['male']].astype(str) + ' %'"
   ]
  },
  {
   "cell_type": "markdown",
   "metadata": {},
   "source": [
    "#### 3. Сколько мужчин имеют заболевание сердца? Сколько женщин имеют заболевание сердца?"
   ]
  },
  {
   "cell_type": "code",
   "execution_count": 7,
   "metadata": {},
   "outputs": [
    {
     "name": "stdout",
     "output_type": "stream",
     "text": [
      "target    0   1\n",
      "sex            \n",
      "female   24  72\n",
      "male    114  93\n"
     ]
    },
    {
     "data": {
      "text/html": [
       "<div>\n",
       "<style scoped>\n",
       "    .dataframe tbody tr th:only-of-type {\n",
       "        vertical-align: middle;\n",
       "    }\n",
       "\n",
       "    .dataframe tbody tr th {\n",
       "        vertical-align: top;\n",
       "    }\n",
       "\n",
       "    .dataframe thead th {\n",
       "        text-align: right;\n",
       "    }\n",
       "</style>\n",
       "<table border=\"1\" class=\"dataframe\">\n",
       "  <thead>\n",
       "    <tr style=\"text-align: right;\">\n",
       "      <th></th>\n",
       "      <th>1</th>\n",
       "    </tr>\n",
       "    <tr>\n",
       "      <th>sex</th>\n",
       "      <th></th>\n",
       "    </tr>\n",
       "  </thead>\n",
       "  <tbody>\n",
       "    <tr>\n",
       "      <th>male</th>\n",
       "      <td>93</td>\n",
       "    </tr>\n",
       "    <tr>\n",
       "      <th>female</th>\n",
       "      <td>72</td>\n",
       "    </tr>\n",
       "  </tbody>\n",
       "</table>\n",
       "</div>"
      ],
      "text/plain": [
       "         1\n",
       "sex       \n",
       "male    93\n",
       "female  72"
      ]
     },
     "execution_count": 7,
     "metadata": {},
     "output_type": "execute_result"
    }
   ],
   "source": [
    "crosstab = pd.crosstab(data.sex, data.target)\n",
    "print(crosstab)\n",
    "pd.DataFrame(crosstab, columns=[1]).loc[['male', 'female']]"
   ]
  },
  {
   "cell_type": "code",
   "execution_count": 8,
   "metadata": {},
   "outputs": [
    {
     "data": {
      "text/html": [
       "<div>\n",
       "<style scoped>\n",
       "    .dataframe tbody tr th:only-of-type {\n",
       "        vertical-align: middle;\n",
       "    }\n",
       "\n",
       "    .dataframe tbody tr th {\n",
       "        vertical-align: top;\n",
       "    }\n",
       "\n",
       "    .dataframe thead th {\n",
       "        text-align: right;\n",
       "    }\n",
       "</style>\n",
       "<table border=\"1\" class=\"dataframe\">\n",
       "  <thead>\n",
       "    <tr style=\"text-align: right;\">\n",
       "      <th></th>\n",
       "      <th>1</th>\n",
       "    </tr>\n",
       "    <tr>\n",
       "      <th>sex</th>\n",
       "      <th></th>\n",
       "    </tr>\n",
       "  </thead>\n",
       "  <tbody>\n",
       "    <tr>\n",
       "      <th>male</th>\n",
       "      <td>93</td>\n",
       "    </tr>\n",
       "    <tr>\n",
       "      <th>female</th>\n",
       "      <td>72</td>\n",
       "    </tr>\n",
       "  </tbody>\n",
       "</table>\n",
       "</div>"
      ],
      "text/plain": [
       "         1\n",
       "sex       \n",
       "male    93\n",
       "female  72"
      ]
     },
     "execution_count": 8,
     "metadata": {},
     "output_type": "execute_result"
    }
   ],
   "source": [
    "# Сортировка по-другому:\n",
    "pd.DataFrame(crosstab, columns=[1]).sort_values(1, ascending = False)"
   ]
  },
  {
   "cell_type": "markdown",
   "metadata": {},
   "source": [
    "**4. Какую долю, от общего числа пациентов, занимают мужчины не имеющие болезнь сердца?**"
   ]
  },
  {
   "cell_type": "code",
   "execution_count": 9,
   "metadata": {},
   "outputs": [
    {
     "data": {
      "text/plain": [
       "target\n",
       "0    37.62 %\n",
       "Name: male, dtype: object"
      ]
     },
     "execution_count": 9,
     "metadata": {},
     "output_type": "execute_result"
    }
   ],
   "source": [
    "crosstab.iloc[1, [0]].div(crosstab.sum().sum()).mul(100).round(2).astype(str) + ' %'"
   ]
  },
  {
   "cell_type": "markdown",
   "metadata": {},
   "source": [
    "**5. Сколько лет самому молодому пациенту, страдающему болезнью сердца?**"
   ]
  },
  {
   "cell_type": "code",
   "execution_count": 10,
   "metadata": {},
   "outputs": [
    {
     "data": {
      "text/plain": [
       "29"
      ]
     },
     "execution_count": 10,
     "metadata": {},
     "output_type": "execute_result"
    }
   ],
   "source": [
    "x = data[data[\"target\"] == 1]\n",
    "x[\"age\"].min()"
   ]
  },
  {
   "cell_type": "markdown",
   "metadata": {},
   "source": [
    "**6. Сколько лет самому возастному пациенту, у которого нет проблем с сердцем?**"
   ]
  },
  {
   "cell_type": "code",
   "execution_count": 11,
   "metadata": {},
   "outputs": [
    {
     "data": {
      "text/plain": [
       "77"
      ]
     },
     "execution_count": 11,
     "metadata": {},
     "output_type": "execute_result"
    }
   ],
   "source": [
    "y = data[data[\"target\"] == 0]\n",
    "y[\"age\"].max()"
   ]
  },
  {
   "cell_type": "markdown",
   "metadata": {},
   "source": [
    "**7. Сколько лет самой молодой женщине, которая страдает болезнью сердца?**"
   ]
  },
  {
   "cell_type": "code",
   "execution_count": 12,
   "metadata": {},
   "outputs": [
    {
     "data": {
      "text/plain": [
       "34"
      ]
     },
     "execution_count": 12,
     "metadata": {},
     "output_type": "execute_result"
    }
   ],
   "source": [
    "z = data[(data[\"target\"]==1) & (data[\"sex\"] == \"female\")]\n",
    "z[\"age\"].min()"
   ]
  },
  {
   "cell_type": "markdown",
   "metadata": {},
   "source": [
    "**8. Какой средний возраст женщин?**"
   ]
  },
  {
   "cell_type": "code",
   "execution_count": 13,
   "metadata": {},
   "outputs": [
    {
     "data": {
      "text/plain": [
       "False    303\n",
       "Name: age, dtype: int64"
      ]
     },
     "execution_count": 13,
     "metadata": {},
     "output_type": "execute_result"
    }
   ],
   "source": [
    "# Проверю, нет ли NaN в столбце возраст, прежде чем считать среднее значение\n",
    "data[\"age\"].isnull().value_counts()"
   ]
  },
  {
   "cell_type": "code",
   "execution_count": 14,
   "metadata": {},
   "outputs": [
    {
     "data": {
      "text/plain": [
       "55.68"
      ]
     },
     "execution_count": 14,
     "metadata": {},
     "output_type": "execute_result"
    }
   ],
   "source": [
    "n = data[data[\"sex\"] == \"female\"]\n",
    "round(n[\"age\"].mean(), 2)"
   ]
  },
  {
   "cell_type": "markdown",
   "metadata": {},
   "source": [
    "**9. Каковы средние значения и среднеквадратичные отклонения возраста тех, кто страдает болезнью сердца?**"
   ]
  },
  {
   "cell_type": "code",
   "execution_count": 15,
   "metadata": {},
   "outputs": [
    {
     "data": {
      "text/plain": [
       "mean    52.496970\n",
       "std      9.550651\n",
       "Name: age, dtype: float64"
      ]
     },
     "execution_count": 15,
     "metadata": {},
     "output_type": "execute_result"
    }
   ],
   "source": [
    "m = data[data[\"target\"]==1]\n",
    "m[\"age\"].describe().loc[['mean', 'std']]"
   ]
  },
  {
   "cell_type": "markdown",
   "metadata": {},
   "source": [
    "#### 10. Правда ли, что люди не болеющие болезнью сердца имеют уровень холестерина меньше среднего? (chol) "
   ]
  },
  {
   "cell_type": "code",
   "execution_count": 16,
   "metadata": {},
   "outputs": [
    {
     "name": "stdout",
     "output_type": "stream",
     "text": [
      "Люди, не болеющие болезнью сердца, имеют уровня холестерина меньше среднего: \n",
      "\n",
      "False    73\n",
      "True     65\n",
      "Name: cholesterol, dtype: int64\n"
     ]
    }
   ],
   "source": [
    "k = data[data[\"target\"] == 0]\n",
    "l = k[\"cholesterol\"] < data[\"cholesterol\"].mean()\n",
    "print(\"Люди, не болеющие болезнью сердца, имеют уровня холестерина меньше среднего:\", \"\\n\")\n",
    "print(l.value_counts())"
   ]
  },
  {
   "cell_type": "markdown",
   "metadata": {},
   "source": [
    "Ответ: нет, не правда."
   ]
  },
  {
   "cell_type": "markdown",
   "metadata": {},
   "source": [
    "**11. Выведите статистику rest_ecg для всех числовых признаков, их максимальное и среднее значение (используйте groupby(), решите в одну строчку)**"
   ]
  },
  {
   "cell_type": "code",
   "execution_count": 17,
   "metadata": {},
   "outputs": [
    {
     "data": {
      "text/html": [
       "<div>\n",
       "<style scoped>\n",
       "    .dataframe tbody tr th:only-of-type {\n",
       "        vertical-align: middle;\n",
       "    }\n",
       "\n",
       "    .dataframe tbody tr th {\n",
       "        vertical-align: top;\n",
       "    }\n",
       "\n",
       "    .dataframe thead tr th {\n",
       "        text-align: left;\n",
       "    }\n",
       "</style>\n",
       "<table border=\"1\" class=\"dataframe\">\n",
       "  <thead>\n",
       "    <tr>\n",
       "      <th></th>\n",
       "      <th colspan=\"3\" halign=\"left\">max</th>\n",
       "      <th colspan=\"3\" halign=\"left\">mean</th>\n",
       "    </tr>\n",
       "    <tr>\n",
       "      <th>rest_ecg</th>\n",
       "      <th>ST-T wave abnormality</th>\n",
       "      <th>left ventricular hypertrophy</th>\n",
       "      <th>normal</th>\n",
       "      <th>ST-T wave abnormality</th>\n",
       "      <th>left ventricular hypertrophy</th>\n",
       "      <th>normal</th>\n",
       "    </tr>\n",
       "  </thead>\n",
       "  <tbody>\n",
       "    <tr>\n",
       "      <th>age</th>\n",
       "      <td>71.0</td>\n",
       "      <td>76.0</td>\n",
       "      <td>77.0</td>\n",
       "      <td>52.914474</td>\n",
       "      <td>61.000</td>\n",
       "      <td>55.687075</td>\n",
       "    </tr>\n",
       "    <tr>\n",
       "      <th>resting_blood_pressure</th>\n",
       "      <td>180.0</td>\n",
       "      <td>180.0</td>\n",
       "      <td>200.0</td>\n",
       "      <td>129.065789</td>\n",
       "      <td>140.500</td>\n",
       "      <td>134.027211</td>\n",
       "    </tr>\n",
       "    <tr>\n",
       "      <th>cholesterol</th>\n",
       "      <td>354.0</td>\n",
       "      <td>327.0</td>\n",
       "      <td>564.0</td>\n",
       "      <td>237.269737</td>\n",
       "      <td>261.750</td>\n",
       "      <td>255.142857</td>\n",
       "    </tr>\n",
       "    <tr>\n",
       "      <th>max_heart_rate_achieved</th>\n",
       "      <td>194.0</td>\n",
       "      <td>140.0</td>\n",
       "      <td>202.0</td>\n",
       "      <td>151.960526</td>\n",
       "      <td>125.750</td>\n",
       "      <td>147.904762</td>\n",
       "    </tr>\n",
       "    <tr>\n",
       "      <th>st_depression</th>\n",
       "      <td>5.6</td>\n",
       "      <td>4.4</td>\n",
       "      <td>6.2</td>\n",
       "      <td>0.879605</td>\n",
       "      <td>2.725</td>\n",
       "      <td>1.159184</td>\n",
       "    </tr>\n",
       "    <tr>\n",
       "      <th>num_major_vessels</th>\n",
       "      <td>4.0</td>\n",
       "      <td>3.0</td>\n",
       "      <td>4.0</td>\n",
       "      <td>0.638158</td>\n",
       "      <td>1.000</td>\n",
       "      <td>0.816327</td>\n",
       "    </tr>\n",
       "    <tr>\n",
       "      <th>target</th>\n",
       "      <td>1.0</td>\n",
       "      <td>1.0</td>\n",
       "      <td>1.0</td>\n",
       "      <td>0.631579</td>\n",
       "      <td>0.250</td>\n",
       "      <td>0.462585</td>\n",
       "    </tr>\n",
       "  </tbody>\n",
       "</table>\n",
       "</div>"
      ],
      "text/plain": [
       "                                          max                               \\\n",
       "rest_ecg                ST-T wave abnormality left ventricular hypertrophy   \n",
       "age                                      71.0                         76.0   \n",
       "resting_blood_pressure                  180.0                        180.0   \n",
       "cholesterol                             354.0                        327.0   \n",
       "max_heart_rate_achieved                 194.0                        140.0   \n",
       "st_depression                             5.6                          4.4   \n",
       "num_major_vessels                         4.0                          3.0   \n",
       "target                                    1.0                          1.0   \n",
       "\n",
       "                                                mean  \\\n",
       "rest_ecg                normal ST-T wave abnormality   \n",
       "age                       77.0             52.914474   \n",
       "resting_blood_pressure   200.0            129.065789   \n",
       "cholesterol              564.0            237.269737   \n",
       "max_heart_rate_achieved  202.0            151.960526   \n",
       "st_depression              6.2              0.879605   \n",
       "num_major_vessels          4.0              0.638158   \n",
       "target                     1.0              0.631579   \n",
       "\n",
       "                                                                  \n",
       "rest_ecg                left ventricular hypertrophy      normal  \n",
       "age                                           61.000   55.687075  \n",
       "resting_blood_pressure                       140.500  134.027211  \n",
       "cholesterol                                  261.750  255.142857  \n",
       "max_heart_rate_achieved                      125.750  147.904762  \n",
       "st_depression                                  2.725    1.159184  \n",
       "num_major_vessels                              1.000    0.816327  \n",
       "target                                         0.250    0.462585  "
      ]
     },
     "execution_count": 17,
     "metadata": {},
     "output_type": "execute_result"
    }
   ],
   "source": [
    "pd.concat([data.groupby([\"rest_ecg\"]).max().select_dtypes(include=['int64', 'float64']).T, \n",
    "           data.groupby([\"rest_ecg\"]).mean().T], \n",
    "          axis=1, keys=['max', 'mean'])"
   ]
  },
  {
   "cell_type": "code",
   "execution_count": 18,
   "metadata": {},
   "outputs": [
    {
     "data": {
      "text/html": [
       "<div>\n",
       "<style scoped>\n",
       "    .dataframe tbody tr th:only-of-type {\n",
       "        vertical-align: middle;\n",
       "    }\n",
       "\n",
       "    .dataframe tbody tr th {\n",
       "        vertical-align: top;\n",
       "    }\n",
       "\n",
       "    .dataframe thead th {\n",
       "        text-align: right;\n",
       "    }\n",
       "</style>\n",
       "<table border=\"1\" class=\"dataframe\">\n",
       "  <thead>\n",
       "    <tr style=\"text-align: right;\">\n",
       "      <th></th>\n",
       "      <th>rest_ecg</th>\n",
       "      <th>ST-T wave abnormality</th>\n",
       "      <th>left ventricular hypertrophy</th>\n",
       "      <th>normal</th>\n",
       "    </tr>\n",
       "  </thead>\n",
       "  <tbody>\n",
       "    <tr>\n",
       "      <th rowspan=\"8\" valign=\"top\">age</th>\n",
       "      <th>count</th>\n",
       "      <td>152.000000</td>\n",
       "      <td>4.000000</td>\n",
       "      <td>147.000000</td>\n",
       "    </tr>\n",
       "    <tr>\n",
       "      <th>mean</th>\n",
       "      <td>52.914474</td>\n",
       "      <td>61.000000</td>\n",
       "      <td>55.687075</td>\n",
       "    </tr>\n",
       "    <tr>\n",
       "      <th>std</th>\n",
       "      <td>9.229196</td>\n",
       "      <td>10.099505</td>\n",
       "      <td>8.675902</td>\n",
       "    </tr>\n",
       "    <tr>\n",
       "      <th>min</th>\n",
       "      <td>34.000000</td>\n",
       "      <td>55.000000</td>\n",
       "      <td>29.000000</td>\n",
       "    </tr>\n",
       "    <tr>\n",
       "      <th>25%</th>\n",
       "      <td>44.750000</td>\n",
       "      <td>55.000000</td>\n",
       "      <td>50.500000</td>\n",
       "    </tr>\n",
       "    <tr>\n",
       "      <th>50%</th>\n",
       "      <td>53.500000</td>\n",
       "      <td>56.500000</td>\n",
       "      <td>57.000000</td>\n",
       "    </tr>\n",
       "    <tr>\n",
       "      <th>75%</th>\n",
       "      <td>60.000000</td>\n",
       "      <td>62.500000</td>\n",
       "      <td>62.000000</td>\n",
       "    </tr>\n",
       "    <tr>\n",
       "      <th>max</th>\n",
       "      <td>71.000000</td>\n",
       "      <td>76.000000</td>\n",
       "      <td>77.000000</td>\n",
       "    </tr>\n",
       "    <tr>\n",
       "      <th rowspan=\"8\" valign=\"top\">resting_blood_pressure</th>\n",
       "      <th>count</th>\n",
       "      <td>152.000000</td>\n",
       "      <td>4.000000</td>\n",
       "      <td>147.000000</td>\n",
       "    </tr>\n",
       "    <tr>\n",
       "      <th>mean</th>\n",
       "      <td>129.065789</td>\n",
       "      <td>140.500000</td>\n",
       "      <td>134.027211</td>\n",
       "    </tr>\n",
       "    <tr>\n",
       "      <th>std</th>\n",
       "      <td>16.423078</td>\n",
       "      <td>28.396009</td>\n",
       "      <td>18.053553</td>\n",
       "    </tr>\n",
       "    <tr>\n",
       "      <th>min</th>\n",
       "      <td>94.000000</td>\n",
       "      <td>114.000000</td>\n",
       "      <td>100.000000</td>\n",
       "    </tr>\n",
       "    <tr>\n",
       "      <th>25%</th>\n",
       "      <td>120.000000</td>\n",
       "      <td>124.500000</td>\n",
       "      <td>121.000000</td>\n",
       "    </tr>\n",
       "    <tr>\n",
       "      <th>50%</th>\n",
       "      <td>128.500000</td>\n",
       "      <td>134.000000</td>\n",
       "      <td>130.000000</td>\n",
       "    </tr>\n",
       "    <tr>\n",
       "      <th>75%</th>\n",
       "      <td>140.000000</td>\n",
       "      <td>150.000000</td>\n",
       "      <td>142.000000</td>\n",
       "    </tr>\n",
       "    <tr>\n",
       "      <th>max</th>\n",
       "      <td>180.000000</td>\n",
       "      <td>180.000000</td>\n",
       "      <td>200.000000</td>\n",
       "    </tr>\n",
       "    <tr>\n",
       "      <th rowspan=\"8\" valign=\"top\">cholesterol</th>\n",
       "      <th>count</th>\n",
       "      <td>152.000000</td>\n",
       "      <td>4.000000</td>\n",
       "      <td>147.000000</td>\n",
       "    </tr>\n",
       "    <tr>\n",
       "      <th>mean</th>\n",
       "      <td>237.269737</td>\n",
       "      <td>261.750000</td>\n",
       "      <td>255.142857</td>\n",
       "    </tr>\n",
       "    <tr>\n",
       "      <th>std</th>\n",
       "      <td>47.050765</td>\n",
       "      <td>70.320101</td>\n",
       "      <td>54.731099</td>\n",
       "    </tr>\n",
       "    <tr>\n",
       "      <th>min</th>\n",
       "      <td>126.000000</td>\n",
       "      <td>197.000000</td>\n",
       "      <td>149.000000</td>\n",
       "    </tr>\n",
       "    <tr>\n",
       "      <th>25%</th>\n",
       "      <td>204.000000</td>\n",
       "      <td>203.000000</td>\n",
       "      <td>220.000000</td>\n",
       "    </tr>\n",
       "    <tr>\n",
       "      <th>50%</th>\n",
       "      <td>232.000000</td>\n",
       "      <td>261.500000</td>\n",
       "      <td>252.000000</td>\n",
       "    </tr>\n",
       "    <tr>\n",
       "      <th>75%</th>\n",
       "      <td>264.500000</td>\n",
       "      <td>320.250000</td>\n",
       "      <td>282.500000</td>\n",
       "    </tr>\n",
       "    <tr>\n",
       "      <th>max</th>\n",
       "      <td>354.000000</td>\n",
       "      <td>327.000000</td>\n",
       "      <td>564.000000</td>\n",
       "    </tr>\n",
       "    <tr>\n",
       "      <th rowspan=\"8\" valign=\"top\">max_heart_rate_achieved</th>\n",
       "      <th>count</th>\n",
       "      <td>152.000000</td>\n",
       "      <td>4.000000</td>\n",
       "      <td>147.000000</td>\n",
       "    </tr>\n",
       "    <tr>\n",
       "      <th>mean</th>\n",
       "      <td>151.960526</td>\n",
       "      <td>125.750000</td>\n",
       "      <td>147.904762</td>\n",
       "    </tr>\n",
       "    <tr>\n",
       "      <th>std</th>\n",
       "      <td>23.312414</td>\n",
       "      <td>11.441882</td>\n",
       "      <td>22.275158</td>\n",
       "    </tr>\n",
       "    <tr>\n",
       "      <th>min</th>\n",
       "      <td>71.000000</td>\n",
       "      <td>116.000000</td>\n",
       "      <td>90.000000</td>\n",
       "    </tr>\n",
       "    <tr>\n",
       "      <th>25%</th>\n",
       "      <td>139.750000</td>\n",
       "      <td>116.750000</td>\n",
       "      <td>132.000000</td>\n",
       "    </tr>\n",
       "    <tr>\n",
       "      <th>50%</th>\n",
       "      <td>158.000000</td>\n",
       "      <td>123.500000</td>\n",
       "      <td>150.000000</td>\n",
       "    </tr>\n",
       "    <tr>\n",
       "      <th>75%</th>\n",
       "      <td>169.250000</td>\n",
       "      <td>132.500000</td>\n",
       "      <td>162.000000</td>\n",
       "    </tr>\n",
       "    <tr>\n",
       "      <th>max</th>\n",
       "      <td>194.000000</td>\n",
       "      <td>140.000000</td>\n",
       "      <td>202.000000</td>\n",
       "    </tr>\n",
       "    <tr>\n",
       "      <th rowspan=\"8\" valign=\"top\">st_depression</th>\n",
       "      <th>count</th>\n",
       "      <td>152.000000</td>\n",
       "      <td>4.000000</td>\n",
       "      <td>147.000000</td>\n",
       "    </tr>\n",
       "    <tr>\n",
       "      <th>mean</th>\n",
       "      <td>0.879605</td>\n",
       "      <td>2.725000</td>\n",
       "      <td>1.159184</td>\n",
       "    </tr>\n",
       "    <tr>\n",
       "      <th>std</th>\n",
       "      <td>1.054561</td>\n",
       "      <td>1.463728</td>\n",
       "      <td>1.214679</td>\n",
       "    </tr>\n",
       "    <tr>\n",
       "      <th>min</th>\n",
       "      <td>0.000000</td>\n",
       "      <td>1.100000</td>\n",
       "      <td>0.000000</td>\n",
       "    </tr>\n",
       "    <tr>\n",
       "      <th>25%</th>\n",
       "      <td>0.000000</td>\n",
       "      <td>1.775000</td>\n",
       "      <td>0.000000</td>\n",
       "    </tr>\n",
       "    <tr>\n",
       "      <th>50%</th>\n",
       "      <td>0.550000</td>\n",
       "      <td>2.700000</td>\n",
       "      <td>0.800000</td>\n",
       "    </tr>\n",
       "    <tr>\n",
       "      <th>75%</th>\n",
       "      <td>1.400000</td>\n",
       "      <td>3.650000</td>\n",
       "      <td>1.950000</td>\n",
       "    </tr>\n",
       "    <tr>\n",
       "      <th>max</th>\n",
       "      <td>5.600000</td>\n",
       "      <td>4.400000</td>\n",
       "      <td>6.200000</td>\n",
       "    </tr>\n",
       "    <tr>\n",
       "      <th rowspan=\"8\" valign=\"top\">num_major_vessels</th>\n",
       "      <th>count</th>\n",
       "      <td>152.000000</td>\n",
       "      <td>4.000000</td>\n",
       "      <td>147.000000</td>\n",
       "    </tr>\n",
       "    <tr>\n",
       "      <th>mean</th>\n",
       "      <td>0.638158</td>\n",
       "      <td>1.000000</td>\n",
       "      <td>0.816327</td>\n",
       "    </tr>\n",
       "    <tr>\n",
       "      <th>std</th>\n",
       "      <td>1.006925</td>\n",
       "      <td>1.414214</td>\n",
       "      <td>1.027168</td>\n",
       "    </tr>\n",
       "    <tr>\n",
       "      <th>min</th>\n",
       "      <td>0.000000</td>\n",
       "      <td>0.000000</td>\n",
       "      <td>0.000000</td>\n",
       "    </tr>\n",
       "    <tr>\n",
       "      <th>25%</th>\n",
       "      <td>0.000000</td>\n",
       "      <td>0.000000</td>\n",
       "      <td>0.000000</td>\n",
       "    </tr>\n",
       "    <tr>\n",
       "      <th>50%</th>\n",
       "      <td>0.000000</td>\n",
       "      <td>0.500000</td>\n",
       "      <td>0.000000</td>\n",
       "    </tr>\n",
       "    <tr>\n",
       "      <th>75%</th>\n",
       "      <td>1.000000</td>\n",
       "      <td>1.500000</td>\n",
       "      <td>1.000000</td>\n",
       "    </tr>\n",
       "    <tr>\n",
       "      <th>max</th>\n",
       "      <td>4.000000</td>\n",
       "      <td>3.000000</td>\n",
       "      <td>4.000000</td>\n",
       "    </tr>\n",
       "    <tr>\n",
       "      <th rowspan=\"8\" valign=\"top\">target</th>\n",
       "      <th>count</th>\n",
       "      <td>152.000000</td>\n",
       "      <td>4.000000</td>\n",
       "      <td>147.000000</td>\n",
       "    </tr>\n",
       "    <tr>\n",
       "      <th>mean</th>\n",
       "      <td>0.631579</td>\n",
       "      <td>0.250000</td>\n",
       "      <td>0.462585</td>\n",
       "    </tr>\n",
       "    <tr>\n",
       "      <th>std</th>\n",
       "      <td>0.483971</td>\n",
       "      <td>0.500000</td>\n",
       "      <td>0.500303</td>\n",
       "    </tr>\n",
       "    <tr>\n",
       "      <th>min</th>\n",
       "      <td>0.000000</td>\n",
       "      <td>0.000000</td>\n",
       "      <td>0.000000</td>\n",
       "    </tr>\n",
       "    <tr>\n",
       "      <th>25%</th>\n",
       "      <td>0.000000</td>\n",
       "      <td>0.000000</td>\n",
       "      <td>0.000000</td>\n",
       "    </tr>\n",
       "    <tr>\n",
       "      <th>50%</th>\n",
       "      <td>1.000000</td>\n",
       "      <td>0.000000</td>\n",
       "      <td>0.000000</td>\n",
       "    </tr>\n",
       "    <tr>\n",
       "      <th>75%</th>\n",
       "      <td>1.000000</td>\n",
       "      <td>0.250000</td>\n",
       "      <td>1.000000</td>\n",
       "    </tr>\n",
       "    <tr>\n",
       "      <th>max</th>\n",
       "      <td>1.000000</td>\n",
       "      <td>1.000000</td>\n",
       "      <td>1.000000</td>\n",
       "    </tr>\n",
       "  </tbody>\n",
       "</table>\n",
       "</div>"
      ],
      "text/plain": [
       "rest_ecg                       ST-T wave abnormality  \\\n",
       "age                     count             152.000000   \n",
       "                        mean               52.914474   \n",
       "                        std                 9.229196   \n",
       "                        min                34.000000   \n",
       "                        25%                44.750000   \n",
       "                        50%                53.500000   \n",
       "                        75%                60.000000   \n",
       "                        max                71.000000   \n",
       "resting_blood_pressure  count             152.000000   \n",
       "                        mean              129.065789   \n",
       "                        std                16.423078   \n",
       "                        min                94.000000   \n",
       "                        25%               120.000000   \n",
       "                        50%               128.500000   \n",
       "                        75%               140.000000   \n",
       "                        max               180.000000   \n",
       "cholesterol             count             152.000000   \n",
       "                        mean              237.269737   \n",
       "                        std                47.050765   \n",
       "                        min               126.000000   \n",
       "                        25%               204.000000   \n",
       "                        50%               232.000000   \n",
       "                        75%               264.500000   \n",
       "                        max               354.000000   \n",
       "max_heart_rate_achieved count             152.000000   \n",
       "                        mean              151.960526   \n",
       "                        std                23.312414   \n",
       "                        min                71.000000   \n",
       "                        25%               139.750000   \n",
       "                        50%               158.000000   \n",
       "                        75%               169.250000   \n",
       "                        max               194.000000   \n",
       "st_depression           count             152.000000   \n",
       "                        mean                0.879605   \n",
       "                        std                 1.054561   \n",
       "                        min                 0.000000   \n",
       "                        25%                 0.000000   \n",
       "                        50%                 0.550000   \n",
       "                        75%                 1.400000   \n",
       "                        max                 5.600000   \n",
       "num_major_vessels       count             152.000000   \n",
       "                        mean                0.638158   \n",
       "                        std                 1.006925   \n",
       "                        min                 0.000000   \n",
       "                        25%                 0.000000   \n",
       "                        50%                 0.000000   \n",
       "                        75%                 1.000000   \n",
       "                        max                 4.000000   \n",
       "target                  count             152.000000   \n",
       "                        mean                0.631579   \n",
       "                        std                 0.483971   \n",
       "                        min                 0.000000   \n",
       "                        25%                 0.000000   \n",
       "                        50%                 1.000000   \n",
       "                        75%                 1.000000   \n",
       "                        max                 1.000000   \n",
       "\n",
       "rest_ecg                       left ventricular hypertrophy      normal  \n",
       "age                     count                      4.000000  147.000000  \n",
       "                        mean                      61.000000   55.687075  \n",
       "                        std                       10.099505    8.675902  \n",
       "                        min                       55.000000   29.000000  \n",
       "                        25%                       55.000000   50.500000  \n",
       "                        50%                       56.500000   57.000000  \n",
       "                        75%                       62.500000   62.000000  \n",
       "                        max                       76.000000   77.000000  \n",
       "resting_blood_pressure  count                      4.000000  147.000000  \n",
       "                        mean                     140.500000  134.027211  \n",
       "                        std                       28.396009   18.053553  \n",
       "                        min                      114.000000  100.000000  \n",
       "                        25%                      124.500000  121.000000  \n",
       "                        50%                      134.000000  130.000000  \n",
       "                        75%                      150.000000  142.000000  \n",
       "                        max                      180.000000  200.000000  \n",
       "cholesterol             count                      4.000000  147.000000  \n",
       "                        mean                     261.750000  255.142857  \n",
       "                        std                       70.320101   54.731099  \n",
       "                        min                      197.000000  149.000000  \n",
       "                        25%                      203.000000  220.000000  \n",
       "                        50%                      261.500000  252.000000  \n",
       "                        75%                      320.250000  282.500000  \n",
       "                        max                      327.000000  564.000000  \n",
       "max_heart_rate_achieved count                      4.000000  147.000000  \n",
       "                        mean                     125.750000  147.904762  \n",
       "                        std                       11.441882   22.275158  \n",
       "                        min                      116.000000   90.000000  \n",
       "                        25%                      116.750000  132.000000  \n",
       "                        50%                      123.500000  150.000000  \n",
       "                        75%                      132.500000  162.000000  \n",
       "                        max                      140.000000  202.000000  \n",
       "st_depression           count                      4.000000  147.000000  \n",
       "                        mean                       2.725000    1.159184  \n",
       "                        std                        1.463728    1.214679  \n",
       "                        min                        1.100000    0.000000  \n",
       "                        25%                        1.775000    0.000000  \n",
       "                        50%                        2.700000    0.800000  \n",
       "                        75%                        3.650000    1.950000  \n",
       "                        max                        4.400000    6.200000  \n",
       "num_major_vessels       count                      4.000000  147.000000  \n",
       "                        mean                       1.000000    0.816327  \n",
       "                        std                        1.414214    1.027168  \n",
       "                        min                        0.000000    0.000000  \n",
       "                        25%                        0.000000    0.000000  \n",
       "                        50%                        0.500000    0.000000  \n",
       "                        75%                        1.500000    1.000000  \n",
       "                        max                        3.000000    4.000000  \n",
       "target                  count                      4.000000  147.000000  \n",
       "                        mean                       0.250000    0.462585  \n",
       "                        std                        0.500000    0.500303  \n",
       "                        min                        0.000000    0.000000  \n",
       "                        25%                        0.000000    0.000000  \n",
       "                        50%                        0.000000    0.000000  \n",
       "                        75%                        0.250000    1.000000  \n",
       "                        max                        1.000000    1.000000  "
      ]
     },
     "execution_count": 18,
     "metadata": {},
     "output_type": "execute_result"
    }
   ],
   "source": [
    "# Второе решение: просто вытаскиваю всю статистику по \"rest_ecd\" для числовых признаков, в том числе max и mean\n",
    "data.groupby([\"rest_ecg\"]).describe().T"
   ]
  },
  {
   "cell_type": "markdown",
   "metadata": {},
   "source": [
    "**12. Посчитайте у кого уровень депрессии при физический нагрузке выше (в среднем), среди мужчин страдающих болезнью сердца или среди женщин не страдающих болезнью сердца (st_depression)**"
   ]
  },
  {
   "cell_type": "code",
   "execution_count": 19,
   "metadata": {},
   "outputs": [
    {
     "name": "stdout",
     "output_type": "stream",
     "text": [
      "male_hd         0.605376\n",
      "female_no_hd    1.841667\n",
      "dtype: float64 \n",
      "\n",
      "Уровень депрессии при физической нагрузке в среднем выше у женщин, не страдающих болезнью сердца.\n"
     ]
    }
   ],
   "source": [
    "male_hd = data[(data[\"target\"]==1) & (data[\"sex\"]==\"male\")]\n",
    "female_no_hd = data[(data[\"target\"]==0) & (data[\"sex\"]==\"female\")]\n",
    "s = pd.Series([male_hd[\"st_depression\"].mean(), \n",
    "             female_no_hd[\"st_depression\"].mean()],\n",
    "            index=[\"male_hd\", \"female_no_hd\"])\n",
    "print(s, \"\\n\")\n",
    "if s['male_hd'] > s['female_no_hd']:\n",
    "    print(\"Уровень депрессии при физической нагрузке в среднем выше у мужчин, страдающих болезнью сердца.\")\n",
    "else:\n",
    "    print(\"Уровень депрессии при физической нагрузке в среднем выше у женщин, не страдающих болезнью сердца.\")"
   ]
  },
  {
   "cell_type": "markdown",
   "metadata": {},
   "source": [
    "**13. Посчтитайте максимальный и минимальный уровень холестерина для каждого типа chest_pain_type, rest_ecg, thalassemia. Пишите код оптимально, можно использовать циклы**"
   ]
  },
  {
   "cell_type": "code",
   "execution_count": 20,
   "metadata": {},
   "outputs": [
    {
     "name": "stdout",
     "output_type": "stream",
     "text": [
      "                  chol_max  chol_min\n",
      "chest_pain_type                     \n",
      "atypical angina        564       126\n",
      "non-anginal pain       298       182\n",
      "typical angina         409       131\n",
      "                              chol_max  chol_min\n",
      "rest_ecg                                        \n",
      "ST-T wave abnormality              354       126\n",
      "left ventricular hypertrophy       327       197\n",
      "normal                             564       149\n",
      "                   chol_max  chol_min\n",
      "thalassemia                          \n",
      "fixed defect            417       141\n",
      "normal                  318       169\n",
      "reversable defect       564       126\n"
     ]
    }
   ],
   "source": [
    "a = [\"chest_pain_type\", \"rest_ecg\", \"thalassemia\"]\n",
    "for element in a:\n",
    "    chol_max = pd.DataFrame([data.groupby(element)[\"cholesterol\"].max()], index = [\"chol_max\"]).T\n",
    "    chol_min = pd.DataFrame([data.groupby(element)[\"cholesterol\"].min()], index = [\"chol_min\"]).T\n",
    "    print(pd.concat([chol_max, chol_min], axis=1))"
   ]
  },
  {
   "cell_type": "code",
   "execution_count": 21,
   "metadata": {},
   "outputs": [
    {
     "data": {
      "text/html": [
       "<div>\n",
       "<style scoped>\n",
       "    .dataframe tbody tr th:only-of-type {\n",
       "        vertical-align: middle;\n",
       "    }\n",
       "\n",
       "    .dataframe tbody tr th {\n",
       "        vertical-align: top;\n",
       "    }\n",
       "\n",
       "    .dataframe thead th {\n",
       "        text-align: right;\n",
       "    }\n",
       "</style>\n",
       "<table border=\"1\" class=\"dataframe\">\n",
       "  <thead>\n",
       "    <tr style=\"text-align: right;\">\n",
       "      <th></th>\n",
       "      <th></th>\n",
       "      <th>chol_max</th>\n",
       "      <th>chol_min</th>\n",
       "    </tr>\n",
       "  </thead>\n",
       "  <tbody>\n",
       "    <tr>\n",
       "      <th rowspan=\"3\" valign=\"top\">chest_pain_type</th>\n",
       "      <th>atypical angina</th>\n",
       "      <td>564</td>\n",
       "      <td>126</td>\n",
       "    </tr>\n",
       "    <tr>\n",
       "      <th>non-anginal pain</th>\n",
       "      <td>298</td>\n",
       "      <td>182</td>\n",
       "    </tr>\n",
       "    <tr>\n",
       "      <th>typical angina</th>\n",
       "      <td>409</td>\n",
       "      <td>131</td>\n",
       "    </tr>\n",
       "    <tr>\n",
       "      <th rowspan=\"3\" valign=\"top\">rest_ecg</th>\n",
       "      <th>ST-T wave abnormality</th>\n",
       "      <td>354</td>\n",
       "      <td>126</td>\n",
       "    </tr>\n",
       "    <tr>\n",
       "      <th>left ventricular hypertrophy</th>\n",
       "      <td>327</td>\n",
       "      <td>197</td>\n",
       "    </tr>\n",
       "    <tr>\n",
       "      <th>normal</th>\n",
       "      <td>564</td>\n",
       "      <td>149</td>\n",
       "    </tr>\n",
       "    <tr>\n",
       "      <th rowspan=\"3\" valign=\"top\">thalassemia</th>\n",
       "      <th>fixed defect</th>\n",
       "      <td>417</td>\n",
       "      <td>141</td>\n",
       "    </tr>\n",
       "    <tr>\n",
       "      <th>normal</th>\n",
       "      <td>318</td>\n",
       "      <td>169</td>\n",
       "    </tr>\n",
       "    <tr>\n",
       "      <th>reversable defect</th>\n",
       "      <td>564</td>\n",
       "      <td>126</td>\n",
       "    </tr>\n",
       "  </tbody>\n",
       "</table>\n",
       "</div>"
      ],
      "text/plain": [
       "                                              chol_max  chol_min\n",
       "chest_pain_type atypical angina                    564       126\n",
       "                non-anginal pain                   298       182\n",
       "                typical angina                     409       131\n",
       "rest_ecg        ST-T wave abnormality              354       126\n",
       "                left ventricular hypertrophy       327       197\n",
       "                normal                             564       149\n",
       "thalassemia     fixed defect                       417       141\n",
       "                normal                             318       169\n",
       "                reversable defect                  564       126"
      ]
     },
     "execution_count": 21,
     "metadata": {},
     "output_type": "execute_result"
    }
   ],
   "source": [
    "# Без цикла, но с красивым объединением данных:\n",
    "a = pd.DataFrame([data.groupby(\"chest_pain_type\")[\"cholesterol\"].max()], index = [\"chol_max\"])\n",
    "b = pd.DataFrame([data.groupby(\"chest_pain_type\")[\"cholesterol\"].min()], index = [\"chol_min\"])\n",
    "df1 = pd.concat([a, b])\n",
    "c = pd.DataFrame([data.groupby(\"rest_ecg\")[\"cholesterol\"].max()], index = [\"chol_max\"])\n",
    "d = pd.DataFrame([data.groupby(\"rest_ecg\")[\"cholesterol\"].min()], index = [\"chol_min\"])\n",
    "df2 = pd.concat([c, d])\n",
    "e = pd.DataFrame([data.groupby(\"thalassemia\")[\"cholesterol\"].max()], index = [\"chol_max\"])\n",
    "f = pd.DataFrame([data.groupby(\"thalassemia\")[\"cholesterol\"].min()], index = [\"chol_min\"])\n",
    "df3 = pd.concat([e, f])\n",
    "pd.concat([df1, df2, df3], axis=1, keys=['chest_pain_type', 'rest_ecg', 'thalassemia']).T"
   ]
  },
  {
   "cell_type": "markdown",
   "metadata": {},
   "source": [
    "**14. Сколько значений может принимать каждый из категориальных признаков?**"
   ]
  },
  {
   "cell_type": "code",
   "execution_count": 22,
   "metadata": {},
   "outputs": [
    {
     "data": {
      "text/plain": [
       "sex                        2\n",
       "chest_pain_type            3\n",
       "fasting_blood_sugar        2\n",
       "rest_ecg                   3\n",
       "exercise_induced_angina    2\n",
       "st_slope                   2\n",
       "thalassemia                3\n",
       "dtype: int64"
      ]
     },
     "execution_count": 22,
     "metadata": {},
     "output_type": "execute_result"
    }
   ],
   "source": [
    "data.select_dtypes(include='object').nunique()"
   ]
  },
  {
   "cell_type": "markdown",
   "metadata": {},
   "source": [
    "**15. У какого категориального признака наблюдается самый сильный дисбаланс классов?**"
   ]
  },
  {
   "cell_type": "code",
   "execution_count": 23,
   "metadata": {},
   "outputs": [
    {
     "name": "stdout",
     "output_type": "stream",
     "text": [
      "fasting_blood_sugar        22684.5\n",
      "chest_pain_type             7372.0\n",
      "rest_ecg                    7063.0\n",
      "sex                         6160.5\n",
      "thalassemia                 5521.0\n",
      "exercise_induced_angina     5512.5\n",
      "st_slope                     180.5\n",
      "dtype: float64 \n",
      "\n",
      "Самый сильный дисбаланс классов наблюдается у fasting_blood_sugar со значением дисперсии 22684.5\n"
     ]
    }
   ],
   "source": [
    "# Оценка дисбаланса классов по дисперсии значений классов:\n",
    "a = [\"sex\", \"chest_pain_type\", \"fasting_blood_sugar\", \"rest_ecg\", \"exercise_induced_angina\", \"st_slope\", \"thalassemia\"]\n",
    "b = []\n",
    "for i in a:\n",
    "    b.append(pd.Series(data[i].value_counts().values).var())\n",
    "d_var = pd.Series(b, index = a).sort_values(ascending = False)\n",
    "print(d_var, \"\\n\")\n",
    "print(\"Самый сильный дисбаланс классов наблюдается у\", d_var.index[0], \n",
    "      \"со значением дисперсии\", d_var[0])"
   ]
  },
  {
   "cell_type": "code",
   "execution_count": 24,
   "metadata": {},
   "outputs": [
    {
     "name": "stdout",
     "output_type": "stream",
     "text": [
      "fasting_blood_sugar        150.613744\n",
      "chest_pain_type             85.860352\n",
      "rest_ecg                    84.041656\n",
      "sex                         78.488853\n",
      "thalassemia                 74.303432\n",
      "exercise_induced_angina     74.246212\n",
      "st_slope                    13.435029\n",
      "dtype: float64 \n",
      "\n",
      "Самый сильный дисбаланс классов наблюдается у fasting_blood_sugar со значением стандартного отклонения 150.61\n"
     ]
    }
   ],
   "source": [
    "# Оценка дисбаланса классов по стандартному отклонению значений классов (аналогично оценки по дисперсии):\n",
    "a = [\"sex\", \"chest_pain_type\", \"fasting_blood_sugar\", \"rest_ecg\", \"exercise_induced_angina\", \"st_slope\", \"thalassemia\"]\n",
    "b = []\n",
    "for i in a:\n",
    "    c = data[i].value_counts().values\n",
    "    b.append(pd.Series(c).std())\n",
    "d_std = pd.Series(b, index = a).sort_values(ascending = False)\n",
    "print(d_std, \"\\n\")\n",
    "print(\"Самый сильный дисбаланс классов наблюдается у\", d_std.index[0], \n",
    "      \"со значением стандартного отклонения\", round(d_std[0], 2))"
   ]
  },
  {
   "cell_type": "code",
   "execution_count": 25,
   "metadata": {},
   "outputs": [
    {
     "data": {
      "text/html": [
       "<div>\n",
       "<style scoped>\n",
       "    .dataframe tbody tr th:only-of-type {\n",
       "        vertical-align: middle;\n",
       "    }\n",
       "\n",
       "    .dataframe tbody tr th {\n",
       "        vertical-align: top;\n",
       "    }\n",
       "\n",
       "    .dataframe thead th {\n",
       "        text-align: right;\n",
       "    }\n",
       "</style>\n",
       "<table border=\"1\" class=\"dataframe\">\n",
       "  <thead>\n",
       "    <tr style=\"text-align: right;\">\n",
       "      <th></th>\n",
       "      <th>count</th>\n",
       "      <th>unique</th>\n",
       "      <th>top</th>\n",
       "      <th>freq</th>\n",
       "    </tr>\n",
       "  </thead>\n",
       "  <tbody>\n",
       "    <tr>\n",
       "      <th>sex</th>\n",
       "      <td>303</td>\n",
       "      <td>2</td>\n",
       "      <td>male</td>\n",
       "      <td>207</td>\n",
       "    </tr>\n",
       "    <tr>\n",
       "      <th>chest_pain_type</th>\n",
       "      <td>303</td>\n",
       "      <td>3</td>\n",
       "      <td>typical angina</td>\n",
       "      <td>193</td>\n",
       "    </tr>\n",
       "    <tr>\n",
       "      <th>fasting_blood_sugar</th>\n",
       "      <td>303</td>\n",
       "      <td>2</td>\n",
       "      <td>lower than 120mg/ml</td>\n",
       "      <td>258</td>\n",
       "    </tr>\n",
       "    <tr>\n",
       "      <th>rest_ecg</th>\n",
       "      <td>303</td>\n",
       "      <td>3</td>\n",
       "      <td>ST-T wave abnormality</td>\n",
       "      <td>152</td>\n",
       "    </tr>\n",
       "    <tr>\n",
       "      <th>exercise_induced_angina</th>\n",
       "      <td>303</td>\n",
       "      <td>2</td>\n",
       "      <td>no</td>\n",
       "      <td>204</td>\n",
       "    </tr>\n",
       "    <tr>\n",
       "      <th>st_slope</th>\n",
       "      <td>303</td>\n",
       "      <td>2</td>\n",
       "      <td>upsloping</td>\n",
       "      <td>161</td>\n",
       "    </tr>\n",
       "    <tr>\n",
       "      <th>thalassemia</th>\n",
       "      <td>303</td>\n",
       "      <td>3</td>\n",
       "      <td>fixed defect</td>\n",
       "      <td>166</td>\n",
       "    </tr>\n",
       "  </tbody>\n",
       "</table>\n",
       "</div>"
      ],
      "text/plain": [
       "                        count unique                    top freq\n",
       "sex                       303      2                   male  207\n",
       "chest_pain_type           303      3         typical angina  193\n",
       "fasting_blood_sugar       303      2    lower than 120mg/ml  258\n",
       "rest_ecg                  303      3  ST-T wave abnormality  152\n",
       "exercise_induced_angina   303      2                     no  204\n",
       "st_slope                  303      2              upsloping  161\n",
       "thalassemia               303      3           fixed defect  166"
      ]
     },
     "execution_count": 25,
     "metadata": {},
     "output_type": "execute_result"
    }
   ],
   "source": [
    "# Оценка по значению самого часто встречающегося класса:\n",
    "data.select_dtypes(include='object').describe().T"
   ]
  },
  {
   "cell_type": "code",
   "execution_count": 26,
   "metadata": {},
   "outputs": [
    {
     "name": "stdout",
     "output_type": "stream",
     "text": [
      "fasting_blood_sugar        85.148515\n",
      "sex                        68.316832\n",
      "exercise_induced_angina    67.326733\n",
      "chest_pain_type             63.69637\n",
      "thalassemia                54.785479\n",
      "st_slope                   53.135314\n",
      "rest_ecg                   50.165017\n",
      "dtype: object\n",
      "\n",
      " Самое высокое процентное содержание наиболее частов встречающегося класса - у признака fasting_blood_sugar cо значением 85.15 %\n"
     ]
    }
   ],
   "source": [
    "x = pd.DataFrame(data.select_dtypes(include='object').describe().T)\n",
    "y = x[\"freq\"] / x[\"count\"] * 100\n",
    "z = y.sort_values(ascending = False)\n",
    "print(z)\n",
    "print('\\n', \"Самое высокое процентное содержание наиболее частов встречающегося класса - у признака\", \n",
    "      z.index[0], \"cо значением\", round(z[0], 2), \"%\")"
   ]
  },
  {
   "cell_type": "markdown",
   "metadata": {},
   "source": [
    "#### Обсуждение\n",
    "Отсутсвие дисбаланса классов наблюдается в том случае, если количество значений во всех классах признака равны, то есть нет отличия значений классов от среднего значения. Обсудим, каким образом можно оценить дисбаланс классов.\n",
    "\n",
    "\n",
    "Процентное содержание наиболее часто встречающегося класса у признака (то есть freq/count * 100%) является показателем дисбаланса классов только в случае, если количество классов категориального признака равно 2.\n",
    "\n",
    "Однако, в нашем примере встречаются признаки, у которых количество классов более двух (по три класса). Значение freq/count * 100% дает нам представление только о содержании наиболее часто встречающегося класса признака, и не дает представление о распределении значений в остальных классах, в которых отличие от среднего значения может быть очень бОльшим, что приведет к бОльшему дисбалансу.\n",
    "\n",
    "В качестве наглядного примера можно сравнить признак не с максимальным дисбалансом классов (fasting_blood_sugar), а второй по величине. При определении дисперсии и среднеквадратичного отклонения это признак \"chest_pain_type\". При расчете содержания наиболее часто встречающегося класса это признак \"sex\".\n",
    "\n",
    "Проанализируем данные два признака по-другому: просто рассчитаем отличие значений каждого класса данных признаков от среднего."
   ]
  },
  {
   "cell_type": "code",
   "execution_count": 27,
   "metadata": {},
   "outputs": [
    {
     "data": {
      "text/plain": [
       "typical angina      193\n",
       "atypical angina      87\n",
       "non-anginal pain     23\n",
       "Name: chest_pain_type, dtype: int64"
      ]
     },
     "execution_count": 27,
     "metadata": {},
     "output_type": "execute_result"
    }
   ],
   "source": [
    "# Количество значений для классов признака chest_pain_type:\n",
    "data.chest_pain_type.value_counts()"
   ]
  },
  {
   "cell_type": "code",
   "execution_count": 28,
   "metadata": {},
   "outputs": [
    {
     "data": {
      "text/plain": [
       "101.0"
      ]
     },
     "execution_count": 28,
     "metadata": {},
     "output_type": "execute_result"
    }
   ],
   "source": [
    "# Среднее значение:\n",
    "data.chest_pain_type.value_counts().mean()"
   ]
  },
  {
   "cell_type": "code",
   "execution_count": 29,
   "metadata": {},
   "outputs": [
    {
     "data": {
      "text/plain": [
       "typical angina      1.9\n",
       "atypical angina     1.2\n",
       "non-anginal pain    4.4\n",
       "dtype: float64"
      ]
     },
     "execution_count": 29,
     "metadata": {},
     "output_type": "execute_result"
    }
   ],
   "source": [
    "# Посчитаем, во сколько раз значение каждого класса отличаются от среднего (просто разделим значение на среднее или наоборот):\n",
    "a = round((data.chest_pain_type.value_counts()[0] / data.chest_pain_type.value_counts().mean()), 1)\n",
    "b = round((data.chest_pain_type.value_counts().mean() / data.chest_pain_type.value_counts()[1]), 1)\n",
    "c = round((data.chest_pain_type.value_counts().mean() / data.chest_pain_type.value_counts()[2]), 1)\n",
    "pd.Series([a, b, c], index = [data.chest_pain_type.value_counts().index[0], \n",
    "         data.chest_pain_type.value_counts().index[1], data.chest_pain_type.value_counts().index[2]])"
   ]
  },
  {
   "cell_type": "code",
   "execution_count": 30,
   "metadata": {},
   "outputs": [
    {
     "data": {
      "text/plain": [
       "male      207\n",
       "female     96\n",
       "Name: sex, dtype: int64"
      ]
     },
     "execution_count": 30,
     "metadata": {},
     "output_type": "execute_result"
    }
   ],
   "source": [
    "# То же сделаем для признака \"sex\"\n",
    "# Количество значений классов признака chest_pain_type:\n",
    "data.sex.value_counts()"
   ]
  },
  {
   "cell_type": "code",
   "execution_count": 31,
   "metadata": {},
   "outputs": [
    {
     "data": {
      "text/plain": [
       "151.5"
      ]
     },
     "execution_count": 31,
     "metadata": {},
     "output_type": "execute_result"
    }
   ],
   "source": [
    "# Среднее значение:\n",
    "data.sex.value_counts().mean()"
   ]
  },
  {
   "cell_type": "code",
   "execution_count": 32,
   "metadata": {},
   "outputs": [
    {
     "data": {
      "text/plain": [
       "male      1.6\n",
       "female    1.2\n",
       "dtype: float64"
      ]
     },
     "execution_count": 32,
     "metadata": {},
     "output_type": "execute_result"
    }
   ],
   "source": [
    "# Посчитаем, во сколько раз значение каждого класса отличаются от среднего\n",
    "a = round((data.sex.value_counts().mean() / data.sex.value_counts()[0]), 1)\n",
    "a = round((data.sex.value_counts().mean() / data.sex.value_counts()[1]), 1)\n",
    "pd.Series([a, b], index = [data.sex.value_counts().index[0], \n",
    "        data.sex.value_counts().index[1]])"
   ]
  },
  {
   "cell_type": "markdown",
   "metadata": {},
   "source": [
    "Анализируем полученные значения:\n",
    "\n",
    "Для признака \"chest_pain_type\" максимальное отличие значения одного из классов от среднего - в 4.4 раза.  \n",
    "Для признака \"sex\" максимальное отличие значения одного из классов от среднего - всего лишь в 1.6 раз.\n",
    "\n",
    "Вывод: дисбаланс признака \"chest_pain_type\" выше дисбаланса признака \"sex\", о чем говорят ранее рассчитанные показатели дисперсии и стандартного отклонения, но не частоты содержания класса."
   ]
  },
  {
   "cell_type": "markdown",
   "metadata": {},
   "source": [
    "#### Вывод\n",
    "Дисбаланс классов можно определить с помощью показателей дисперии и стандартного отклонения и нельзя определить с помощью показателя процентного содержания наиболее часто встречающегося класса, если количество хотя бы одного из классов превышает 2."
   ]
  }
 ],
 "metadata": {
  "kernelspec": {
   "display_name": "Python 3 (ipykernel)",
   "language": "python",
   "name": "python3"
  },
  "language_info": {
   "codemirror_mode": {
    "name": "ipython",
    "version": 3
   },
   "file_extension": ".py",
   "mimetype": "text/x-python",
   "name": "python",
   "nbconvert_exporter": "python",
   "pygments_lexer": "ipython3",
   "version": "3.10.9"
  }
 },
 "nbformat": 4,
 "nbformat_minor": 2
}
