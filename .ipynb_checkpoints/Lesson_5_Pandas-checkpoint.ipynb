{
 "cells": [
  {
   "cell_type": "markdown",
   "id": "07bd47bc",
   "metadata": {},
   "source": [
    "## Pandas\n",
    "Значительно более медленный, чем numpy, но у него более широкий функционал, прежде всего для анализа данных. Это как бы большой эксель программиста.\n",
    "\n",
    "Структуры данных:  \n",
    "__Series__ это столбец (одномерный)\n",
    "__DataFrame__ это двумерный набор данных: состоит из строк и столбцов.\n",
    "\n",
    "Для установки Pandas: pip install Pandas"
   ]
  },
  {
   "cell_type": "code",
   "execution_count": 1,
   "id": "b1f9c7d0",
   "metadata": {},
   "outputs": [],
   "source": [
    "import pandas as pd"
   ]
  },
  {
   "cell_type": "markdown",
   "id": "36201e92",
   "metadata": {},
   "source": [
    "### Series\n",
    "\n",
    "В отличие от Numpy, Series можно создавать с разными типами данных. При этом тип данных будет object.  \n",
    "Второй момент: каждая строка имеет индекс."
   ]
  },
  {
   "cell_type": "code",
   "execution_count": 3,
   "id": "0d2dc236",
   "metadata": {},
   "outputs": [
    {
     "data": {
      "text/plain": [
       "0       1\n",
       "1    John\n",
       "2     3.5\n",
       "3     Hey\n",
       "dtype: object"
      ]
     },
     "execution_count": 3,
     "metadata": {},
     "output_type": "execute_result"
    }
   ],
   "source": [
    "obj = pd.Series([1, \"John\", 3.5, \"Hey\"])\n",
    "obj"
   ]
  },
  {
   "cell_type": "markdown",
   "id": "21acbcd0",
   "metadata": {},
   "source": [
    "По идексу внутри Series можно обращаться к объкту:"
   ]
  },
  {
   "cell_type": "code",
   "execution_count": 4,
   "id": "89bf3806",
   "metadata": {},
   "outputs": [
    {
     "data": {
      "text/plain": [
       "'John'"
      ]
     },
     "execution_count": 4,
     "metadata": {},
     "output_type": "execute_result"
    }
   ],
   "source": [
    "obj[1]"
   ]
  },
  {
   "cell_type": "markdown",
   "id": "15cdeaea",
   "metadata": {},
   "source": [
    "__values__: с помощью values можно получить все данные, которые хранятся в Series, как массив (array)"
   ]
  },
  {
   "cell_type": "code",
   "execution_count": 5,
   "id": "4ea42370",
   "metadata": {},
   "outputs": [
    {
     "data": {
      "text/plain": [
       "array([1, 'John', 3.5, 'Hey'], dtype=object)"
      ]
     },
     "execution_count": 5,
     "metadata": {},
     "output_type": "execute_result"
    }
   ],
   "source": [
    "obj.values"
   ]
  },
  {
   "cell_type": "markdown",
   "id": "4d741c15",
   "metadata": {},
   "source": [
    "Индексы в Series могут быть выражены не только числами, а также и буквами:"
   ]
  },
  {
   "cell_type": "code",
   "execution_count": 6,
   "id": "4630b0f4",
   "metadata": {},
   "outputs": [
    {
     "data": {
      "text/plain": [
       "a       1\n",
       "b    John\n",
       "c     3.5\n",
       "d     Hey\n",
       "dtype: object"
      ]
     },
     "execution_count": 6,
     "metadata": {},
     "output_type": "execute_result"
    }
   ],
   "source": [
    "obj2 = pd.Series([1, \"John\", 3.5, \"Hey\"], index = ['a', 'b', 'c', 'd'])\n",
    "obj2"
   ]
  },
  {
   "cell_type": "code",
   "execution_count": 7,
   "id": "ddbe4828",
   "metadata": {},
   "outputs": [
    {
     "data": {
      "text/plain": [
       "'John'"
      ]
     },
     "execution_count": 7,
     "metadata": {},
     "output_type": "execute_result"
    }
   ],
   "source": [
    "obj2['b']"
   ]
  },
  {
   "cell_type": "markdown",
   "id": "1fbe54eb",
   "metadata": {},
   "source": [
    "index: можно получить все индексы в Series:"
   ]
  },
  {
   "cell_type": "code",
   "execution_count": 8,
   "id": "67c0dd5a",
   "metadata": {},
   "outputs": [
    {
     "data": {
      "text/plain": [
       "RangeIndex(start=0, stop=4, step=1)"
      ]
     },
     "execution_count": 8,
     "metadata": {},
     "output_type": "execute_result"
    }
   ],
   "source": [
    "obj.index"
   ]
  },
  {
   "cell_type": "code",
   "execution_count": 9,
   "id": "46fb901b",
   "metadata": {},
   "outputs": [
    {
     "data": {
      "text/plain": [
       "Index(['a', 'b', 'c', 'd'], dtype='object')"
      ]
     },
     "execution_count": 9,
     "metadata": {},
     "output_type": "execute_result"
    }
   ],
   "source": [
    "obj2.index"
   ]
  },
  {
   "cell_type": "code",
   "execution_count": 11,
   "id": "2cf37122",
   "metadata": {},
   "outputs": [
    {
     "data": {
      "text/plain": [
       "{'Jane': 90, 'Bill': 80, 'Elon': 85, 'Timothy': 90, 'Shalame': 30}"
      ]
     },
     "execution_count": 11,
     "metadata": {},
     "output_type": "execute_result"
    }
   ],
   "source": [
    "score = {\"Jane\":90, \"Bill\": 80, \"Elon\":85, \"Timothy\": 90, \"Shalame\": 30}\n",
    "score"
   ]
  },
  {
   "cell_type": "code",
   "execution_count": 13,
   "id": "8f6d3900",
   "metadata": {},
   "outputs": [
    {
     "data": {
      "text/plain": [
       "Jane       90\n",
       "Bill       80\n",
       "Elon       85\n",
       "Timothy    90\n",
       "Shalame    30\n",
       "dtype: int64"
      ]
     },
     "execution_count": 13,
     "metadata": {},
     "output_type": "execute_result"
    }
   ],
   "source": [
    "names = pd.Series(score)\n",
    "names"
   ]
  },
  {
   "cell_type": "code",
   "execution_count": 14,
   "id": "2f44e48f",
   "metadata": {},
   "outputs": [
    {
     "data": {
      "text/plain": [
       "90"
      ]
     },
     "execution_count": 14,
     "metadata": {},
     "output_type": "execute_result"
    }
   ],
   "source": [
    "names[\"Timothy\"]"
   ]
  },
  {
   "cell_type": "markdown",
   "id": "ebd5b1f4",
   "metadata": {},
   "source": [
    "Можно использовать маски по индексам как фильтрацию:"
   ]
  },
  {
   "cell_type": "code",
   "execution_count": 16,
   "id": "832a2eca",
   "metadata": {},
   "outputs": [
    {
     "data": {
      "text/plain": [
       "Jane       90\n",
       "Elon       85\n",
       "Timothy    90\n",
       "dtype: int64"
      ]
     },
     "execution_count": 16,
     "metadata": {},
     "output_type": "execute_result"
    }
   ],
   "source": [
    "names[names>=85]"
   ]
  },
  {
   "cell_type": "markdown",
   "id": "c215656c",
   "metadata": {},
   "source": [
    "Можно присваивать новые значения по индексам или с условиями:"
   ]
  },
  {
   "cell_type": "code",
   "execution_count": 19,
   "id": "dd61845f",
   "metadata": {},
   "outputs": [
    {
     "data": {
      "text/plain": [
       "Jane       90\n",
       "Bill       80\n",
       "Elon       85\n",
       "Timothy    70\n",
       "Shalame    83\n",
       "dtype: int64"
      ]
     },
     "execution_count": 19,
     "metadata": {},
     "output_type": "execute_result"
    }
   ],
   "source": [
    "names[\"Timothy\"]=70\n",
    "names"
   ]
  },
  {
   "cell_type": "code",
   "execution_count": 20,
   "id": "594d57ca",
   "metadata": {},
   "outputs": [
    {
     "data": {
      "text/plain": [
       "Jane       90\n",
       "Bill       80\n",
       "Elon       85\n",
       "Timothy    83\n",
       "Shalame    83\n",
       "dtype: int64"
      ]
     },
     "execution_count": 20,
     "metadata": {},
     "output_type": "execute_result"
    }
   ],
   "source": [
    "names[names<80]=83\n",
    "names"
   ]
  },
  {
   "cell_type": "markdown",
   "id": "5a1f5c85",
   "metadata": {},
   "source": [
    "Булевая операция с помощью __in__:"
   ]
  },
  {
   "cell_type": "code",
   "execution_count": 25,
   "id": "a5f2e6e1",
   "metadata": {},
   "outputs": [
    {
     "data": {
      "text/plain": [
       "True"
      ]
     },
     "execution_count": 25,
     "metadata": {},
     "output_type": "execute_result"
    }
   ],
   "source": [
    "\"Elon\" in names"
   ]
  },
  {
   "cell_type": "code",
   "execution_count": 26,
   "id": "a2cd898b",
   "metadata": {},
   "outputs": [
    {
     "data": {
      "text/plain": [
       "False"
      ]
     },
     "execution_count": 26,
     "metadata": {},
     "output_type": "execute_result"
    }
   ],
   "source": [
    "\"Anton\" in names"
   ]
  },
  {
   "cell_type": "markdown",
   "id": "ddd1f08e",
   "metadata": {},
   "source": [
    "Можно производить __математические операции__ с Series.  \n",
    "При этом данные, которые выводятся, никуда не записываются. Чтобы они записались, нужно ввести новую переменную."
   ]
  },
  {
   "cell_type": "code",
   "execution_count": 31,
   "id": "18561878",
   "metadata": {},
   "outputs": [
    {
     "data": {
      "text/plain": [
       "Jane       9.0\n",
       "Bill       8.0\n",
       "Elon       8.5\n",
       "Timothy    8.3\n",
       "Shalame    8.3\n",
       "dtype: float64"
      ]
     },
     "execution_count": 31,
     "metadata": {},
     "output_type": "execute_result"
    }
   ],
   "source": [
    "names/10"
   ]
  },
  {
   "cell_type": "markdown",
   "id": "be2fca2c",
   "metadata": {},
   "source": [
    "names**2"
   ]
  },
  {
   "cell_type": "code",
   "execution_count": 33,
   "id": "a83fb076",
   "metadata": {},
   "outputs": [
    {
     "data": {
      "text/plain": [
       "Jane       90\n",
       "Bill       80\n",
       "Elon       85\n",
       "Timothy    83\n",
       "Shalame    83\n",
       "dtype: int64"
      ]
     },
     "execution_count": 33,
     "metadata": {},
     "output_type": "execute_result"
    }
   ],
   "source": [
    "names"
   ]
  },
  {
   "cell_type": "markdown",
   "id": "2a3da2dc",
   "metadata": {},
   "source": [
    "__Проверка на пустые строки: .isnull()__"
   ]
  },
  {
   "cell_type": "code",
   "execution_count": 34,
   "id": "8af0ce29",
   "metadata": {},
   "outputs": [
    {
     "data": {
      "text/plain": [
       "Jane       False\n",
       "Bill       False\n",
       "Elon       False\n",
       "Timothy    False\n",
       "Shalame    False\n",
       "dtype: bool"
      ]
     },
     "execution_count": 34,
     "metadata": {},
     "output_type": "execute_result"
    }
   ],
   "source": [
    "names.isnull()"
   ]
  },
  {
   "cell_type": "markdown",
   "id": "15629e62",
   "metadata": {},
   "source": [
    "### DataFrame"
   ]
  },
  {
   "cell_type": "markdown",
   "id": "66b907d9",
   "metadata": {},
   "source": [
    "__Импорт CSV файлов:__"
   ]
  },
  {
   "cell_type": "code",
   "execution_count": null,
   "id": "68a5eb19",
   "metadata": {},
   "outputs": [],
   "source": []
  }
 ],
 "metadata": {
  "kernelspec": {
   "display_name": "Python 3 (ipykernel)",
   "language": "python",
   "name": "python3"
  },
  "language_info": {
   "codemirror_mode": {
    "name": "ipython",
    "version": 3
   },
   "file_extension": ".py",
   "mimetype": "text/x-python",
   "name": "python",
   "nbconvert_exporter": "python",
   "pygments_lexer": "ipython3",
   "version": "3.10.9"
  }
 },
 "nbformat": 4,
 "nbformat_minor": 5
}
