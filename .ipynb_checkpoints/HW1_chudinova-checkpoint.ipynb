{
 "cells": [
  {
   "cell_type": "code",
   "execution_count": 89,
   "id": "ac19f898",
   "metadata": {},
   "outputs": [
    {
     "name": "stdout",
     "output_type": "stream",
     "text": [
      "7\n",
      "12\n",
      "10\n",
      "Это нормально\n"
     ]
    }
   ],
   "source": [
    "# HW1 task1\n",
    "# \"Получаемое число AA всегда меньше либо равно BB\" - некорректное условие задачи: число АА - вводимое, а не получаемое.\n",
    "AA = int(input()) #AA - recommended: not less than AA\n",
    "BB = int(input()) #BB - recommended: no more than BB\n",
    "HH = int(input()) #HH - executed: equal HH\n",
    "if HH >= AA and HH <= BB:\n",
    "    print(\"Это нормально\")\n",
    "elif HH < AA:\n",
    "    print(\"Недосып\")\n",
    "elif HH > BB:\n",
    "    print(\"Пересып\")"
   ]
  },
  {
   "cell_type": "code",
   "execution_count": null,
   "id": "c9ea2de9",
   "metadata": {},
   "outputs": [],
   "source": [
    "# HW1 task2\n",
    "year = int(input(range(1900,3000)))\n",
    "if year % 4 == 0 and year % 100 != 0 or year % 400 == 0:\n",
    "    print('Високосный')\n",
    "else:\n",
    "    print('Обычный')"
   ]
  },
  {
   "cell_type": "code",
   "execution_count": null,
   "id": "a581eda3",
   "metadata": {},
   "outputs": [],
   "source": [
    "# HW1 task3\n",
    "my_str = [int(i) for i in input().split()]\n",
    "my_sum = 0\n",
    "for i in my_str:\n",
    "    my_sum = my_sum + i\n",
    "    i = i + 1\n",
    "print(my_sum)"
   ]
  },
  {
   "cell_type": "code",
   "execution_count": 143,
   "id": "af678dc9",
   "metadata": {},
   "outputs": [
    {
     "name": "stdout",
     "output_type": "stream",
     "text": [
      "-5\n",
      "12\n",
      "4.5\n"
     ]
    }
   ],
   "source": [
    "# HW1 task4\n",
    "a = int(input())\n",
    "b = int(input())\n",
    "my_sum = 0 # my_sum - сумма чисел\n",
    "my_count = 0 # my_count - количество чисел\n",
    "for i in range (a, b+1):\n",
    "    if i % 3 == 0:\n",
    "        my_sum = my_sum + i\n",
    "        my_count = my_count + 1\n",
    "    i = i+1\n",
    "print(my_sum/ my_count)"
   ]
  },
  {
   "cell_type": "code",
   "execution_count": 144,
   "id": "e9542d5d",
   "metadata": {},
   "outputs": [
    {
     "name": "stdout",
     "output_type": "stream",
     "text": [
      "-5\n",
      "12\n",
      "4.5\n"
     ]
    }
   ],
   "source": [
    "# HW1 task4\n",
    "# Didn't like the previous solution so there's another one better (i think)\n",
    "from statistics import mean\n",
    "a = int(input())\n",
    "b = int(input())\n",
    "my_lst = []\n",
    "for i in range (a, b+1):\n",
    "    if i % 3 == 0:\n",
    "        my_lst.append(i)\n",
    "    i = i+1\n",
    "print(mean(my_lst))"
   ]
  },
  {
   "cell_type": "code",
   "execution_count": 147,
   "id": "c538da64",
   "metadata": {},
   "outputs": [],
   "source": [
    "# HW1 task5\n",
    "lst = []\n",
    "divider = 2\n",
    "def modify_list(lst):\n",
    "    for i in lst:\n",
    "        if i % 2 != 0:\n",
    "            lst.remove(i)\n",
    "    for i in range(len(lst)):\n",
    "        lst[i]=lst[i]//2                "
   ]
  },
  {
   "cell_type": "code",
   "execution_count": 148,
   "id": "7257869d",
   "metadata": {},
   "outputs": [
    {
     "name": "stdout",
     "output_type": "stream",
     "text": [
      "None\n",
      "[1, 2, 3]\n",
      "[1]\n",
      "[5, 4]\n"
     ]
    }
   ],
   "source": [
    "# Task5 check\n",
    "lst = [1, 2, 3, 4, 5, 6]\n",
    "print(modify_list(lst))  # None\n",
    "print(lst)               # [1, 2, 3]\n",
    "modify_list(lst)\n",
    "print(lst)               # [1]\n",
    "\n",
    "lst = [10, 5, 8, 3]\n",
    "modify_list(lst)\n",
    "print(lst)               # [5, 4]"
   ]
  },
  {
   "cell_type": "code",
   "execution_count": 132,
   "id": "039705af",
   "metadata": {},
   "outputs": [
    {
     "ename": "NameError",
     "evalue": "name 'd' is not defined",
     "output_type": "error",
     "traceback": [
      "\u001b[1;31m---------------------------------------------------------------------------\u001b[0m",
      "\u001b[1;31mNameError\u001b[0m                                 Traceback (most recent call last)",
      "Cell \u001b[1;32mIn[132], line 14\u001b[0m\n\u001b[0;32m     12\u001b[0m             d[\u001b[38;5;241m2\u001b[39m\u001b[38;5;241m*\u001b[39mkey]\u001b[38;5;241m.\u001b[39mappend(value)     \n\u001b[0;32m     13\u001b[0m     \u001b[38;5;28;01mreturn\u001b[39;00m   \n\u001b[1;32m---> 14\u001b[0m \u001b[43md\u001b[49m\n",
      "\u001b[1;31mNameError\u001b[0m: name 'd' is not defined"
     ]
    }
   ],
   "source": [
    "# HW1 task6\n",
    "def update_dictionary(d, key, value):\n",
    "    if key in d:\n",
    "        d[key].append(value)\n",
    "    elif key is not d:\n",
    "        if 2*key is d:\n",
    "            d[2*key].append(value)\n",
    "        elif (2*key is not d) and d.get(2*key)== None:\n",
    "            d[2*key]=[]\n",
    "            d[2*key].append(value)\n",
    "        elif (2*key is not d) and d.get(2*key)!=None:\n",
    "            d[2*key].append(value)     \n",
    "    return   "
   ]
  },
  {
   "cell_type": "code",
   "execution_count": 133,
   "id": "4163f5a8",
   "metadata": {},
   "outputs": [
    {
     "name": "stdout",
     "output_type": "stream",
     "text": [
      "None\n",
      "{2: [-1]}\n",
      "{2: [-1, -2]}\n",
      "{2: [-1, -2, -3]}\n"
     ]
    }
   ],
   "source": [
    "d = {}\n",
    "print(update_dictionary(d, 1, -1))  # None\n",
    "print(d)                            # {2: [-1]}\n",
    "update_dictionary(d, 2, -2)\n",
    "print(d)                            # {2: [-1, -2]}\n",
    "update_dictionary(d, 1, -3)\n",
    "print(d)                            # {2: [-1, -2, -3]}"
   ]
  },
  {
   "cell_type": "code",
   "execution_count": null,
   "id": "97608e46",
   "metadata": {},
   "outputs": [],
   "source": []
  },
  {
   "cell_type": "code",
   "execution_count": 141,
   "id": "4f664af2",
   "metadata": {},
   "outputs": [
    {
     "name": "stdout",
     "output_type": "stream",
     "text": [
      "5\n",
      "1 2 2 3 3 "
     ]
    }
   ],
   "source": [
    "# HW1 task7\n",
    "n = int(input())\n",
    "m = []\n",
    "for i in range(n):\n",
    "    j = 0\n",
    "    while j < i+1:\n",
    "        m.append(i+1)\n",
    "        j += 1\n",
    "    if len(m)>n: break\n",
    "m = m[0:n]\n",
    "for i in m:\n",
    "    print(i, end=\" \")"
   ]
  },
  {
   "cell_type": "code",
   "execution_count": null,
   "id": "9e3b1f5a",
   "metadata": {},
   "outputs": [],
   "source": []
  }
 ],
 "metadata": {
  "kernelspec": {
   "display_name": "Python 3 (ipykernel)",
   "language": "python",
   "name": "python3"
  },
  "language_info": {
   "codemirror_mode": {
    "name": "ipython",
    "version": 3
   },
   "file_extension": ".py",
   "mimetype": "text/x-python",
   "name": "python",
   "nbconvert_exporter": "python",
   "pygments_lexer": "ipython3",
   "version": "3.10.9"
  }
 },
 "nbformat": 4,
 "nbformat_minor": 5
}
