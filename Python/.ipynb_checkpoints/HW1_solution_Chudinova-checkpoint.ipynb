{
 "cells": [
  {
   "cell_type": "markdown",
   "id": "bc14e9c2",
   "metadata": {},
   "source": [
    "# Задача 1: решение"
   ]
  },
  {
   "cell_type": "code",
   "execution_count": 1,
   "id": "ac19f898",
   "metadata": {},
   "outputs": [
    {
     "name": "stdout",
     "output_type": "stream",
     "text": [
      "7\n",
      "12\n",
      "10\n",
      "Это нормально\n"
     ]
    }
   ],
   "source": [
    "# HW1 task1\n",
    "# \"Получаемое число AA всегда меньше либо равно BB\" - некорректное условие задачи: число АА - вводимое, а не получаемое.\n",
    "AA = int(input()) #AA - recommended: not less than AA\n",
    "BB = int(input()) #BB - recommended: no more than BB\n",
    "HH = int(input()) #HH - executed: equal HH\n",
    "if HH >= AA and HH <= BB:\n",
    "    print(\"Это нормально\")\n",
    "elif HH < AA:\n",
    "    print(\"Недосып\")\n",
    "elif HH > BB:\n",
    "    print(\"Пересып\")"
   ]
  },
  {
   "cell_type": "markdown",
   "id": "795485c3",
   "metadata": {},
   "source": [
    "# Задача 2: решение"
   ]
  },
  {
   "cell_type": "code",
   "execution_count": 2,
   "id": "c9ea2de9",
   "metadata": {},
   "outputs": [
    {
     "name": "stdout",
     "output_type": "stream",
     "text": [
      "range(1900, 3000)2023\n",
      "Обычный\n"
     ]
    }
   ],
   "source": [
    "# HW1 task2\n",
    "year = int(input(range(1900,3000)))\n",
    "if year % 4 == 0 and year % 100 != 0 or year % 400 == 0:\n",
    "    print('Високосный')\n",
    "else:\n",
    "    print('Обычный')"
   ]
  },
  {
   "cell_type": "markdown",
   "id": "be948e79",
   "metadata": {},
   "source": [
    "# Задача 3: решение"
   ]
  },
  {
   "cell_type": "code",
   "execution_count": 3,
   "id": "a581eda3",
   "metadata": {},
   "outputs": [
    {
     "name": "stdout",
     "output_type": "stream",
     "text": [
      "1 3 5 145\n",
      "154\n"
     ]
    }
   ],
   "source": [
    "# HW1 task3\n",
    "my_str = [int(i) for i in input().split()]\n",
    "my_sum = 0\n",
    "for i in my_str:\n",
    "    my_sum = my_sum + i\n",
    "    i = i + 1\n",
    "print(my_sum)"
   ]
  },
  {
   "cell_type": "markdown",
   "id": "22da8778",
   "metadata": {},
   "source": [
    "# Задача 4: решение"
   ]
  },
  {
   "cell_type": "code",
   "execution_count": 4,
   "id": "af678dc9",
   "metadata": {},
   "outputs": [
    {
     "name": "stdout",
     "output_type": "stream",
     "text": [
      "-5\n",
      "12\n",
      "4.5\n"
     ]
    }
   ],
   "source": [
    "# HW1 task4\n",
    "a = int(input())\n",
    "b = int(input())\n",
    "my_sum = 0 # my_sum - сумма чисел\n",
    "my_count = 0 # my_count - количество чисел\n",
    "for i in range (a, b+1):\n",
    "    if i % 3 == 0:\n",
    "        my_sum = my_sum + i\n",
    "        my_count = my_count + 1\n",
    "    i = i+1\n",
    "print(my_sum/ my_count)"
   ]
  },
  {
   "cell_type": "markdown",
   "id": "d963a537",
   "metadata": {},
   "source": [
    "# Задача 4: другое решение"
   ]
  },
  {
   "cell_type": "code",
   "execution_count": 5,
   "id": "e9542d5d",
   "metadata": {},
   "outputs": [
    {
     "name": "stdout",
     "output_type": "stream",
     "text": [
      "-5\n",
      "12\n",
      "4.5\n"
     ]
    }
   ],
   "source": [
    "# HW1 task4\n",
    "# Didn't like the previous solution so there's another one\n",
    "from statistics import mean\n",
    "a = int(input())\n",
    "b = int(input())\n",
    "my_lst = []\n",
    "for i in range (a, b+1):\n",
    "    if i % 3 == 0:\n",
    "        my_lst.append(i)\n",
    "    i = i+1\n",
    "print(mean(my_lst))"
   ]
  },
  {
   "cell_type": "markdown",
   "id": "8c492b03",
   "metadata": {},
   "source": [
    "# Задача 5: решение"
   ]
  },
  {
   "cell_type": "code",
   "execution_count": 9,
   "id": "c538da64",
   "metadata": {},
   "outputs": [],
   "source": [
    "# HW1 task5\n",
    "lst = []\n",
    "def modify_list(lst):\n",
    "    for i in lst:\n",
    "        if i % 2 != 0:\n",
    "            lst.remove(i)\n",
    "    for i in range(len(lst)):\n",
    "        lst[i]=lst[i]//2                "
   ]
  },
  {
   "cell_type": "code",
   "execution_count": 10,
   "id": "7257869d",
   "metadata": {},
   "outputs": [
    {
     "name": "stdout",
     "output_type": "stream",
     "text": [
      "None\n",
      "[1, 2, 3]\n",
      "[1]\n",
      "[5, 4]\n"
     ]
    }
   ],
   "source": [
    "# Task5 check\n",
    "lst = [1, 2, 3, 4, 5, 6]\n",
    "print(modify_list(lst))  # None\n",
    "print(lst)               # [1, 2, 3]\n",
    "modify_list(lst)\n",
    "print(lst)               # [1]\n",
    "\n",
    "lst = [10, 5, 8, 3]\n",
    "modify_list(lst)\n",
    "print(lst)               # [5, 4]"
   ]
  },
  {
   "cell_type": "markdown",
   "id": "293465ac",
   "metadata": {},
   "source": [
    "# Задача 6: решение"
   ]
  },
  {
   "cell_type": "code",
   "execution_count": 8,
   "id": "039705af",
   "metadata": {},
   "outputs": [],
   "source": [
    "# HW1 task6\n",
    "def update_dictionary(d, key, value):\n",
    "    if key in d:\n",
    "        d[key].append(value)\n",
    "    else:\n",
    "        if 2*key in d:\n",
    "            d[2*key].append(value)\n",
    "        else:\n",
    "            d[2*key] = [value]"
   ]
  },
  {
   "cell_type": "code",
   "execution_count": 9,
   "id": "4163f5a8",
   "metadata": {},
   "outputs": [
    {
     "name": "stdout",
     "output_type": "stream",
     "text": [
      "None\n",
      "{2: [-1]}\n",
      "{2: [-1, -2]}\n",
      "{2: [-1, -2, -3]}\n"
     ]
    }
   ],
   "source": [
    "# Task6 check\n",
    "d = {}\n",
    "print(update_dictionary(d, 1, -1))  # None\n",
    "print(d)                            # {2: [-1]}\n",
    "update_dictionary(d, 2, -2)\n",
    "print(d)                            # {2: [-1, -2]}\n",
    "update_dictionary(d, 1, -3)\n",
    "print(d)                            # {2: [-1, -2, -3]}"
   ]
  },
  {
   "cell_type": "markdown",
   "id": "bf49dd8e",
   "metadata": {},
   "source": [
    "# Задача 7: решение"
   ]
  },
  {
   "cell_type": "code",
   "execution_count": 10,
   "id": "4f664af2",
   "metadata": {},
   "outputs": [
    {
     "name": "stdout",
     "output_type": "stream",
     "text": [
      "5\n",
      "1 2 2 3 3 "
     ]
    }
   ],
   "source": [
    "# HW1 task7\n",
    "n = int(input())\n",
    "m = []\n",
    "for i in range(n):\n",
    "    j = 0\n",
    "    while j < i+1:\n",
    "        m.append(i+1)\n",
    "        j += 1\n",
    "    if len(m)>n: break\n",
    "m = m[0:n]\n",
    "for i in m:\n",
    "    print(i, end=\" \")"
   ]
  }
 ],
 "metadata": {
  "kernelspec": {
   "display_name": "Python 3 (ipykernel)",
   "language": "python",
   "name": "python3"
  },
  "language_info": {
   "codemirror_mode": {
    "name": "ipython",
    "version": 3
   },
   "file_extension": ".py",
   "mimetype": "text/x-python",
   "name": "python",
   "nbconvert_exporter": "python",
   "pygments_lexer": "ipython3",
   "version": "3.10.9"
  }
 },
 "nbformat": 4,
 "nbformat_minor": 5
}
