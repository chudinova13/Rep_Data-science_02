{
 "cells": [
  {
   "cell_type": "markdown",
   "metadata": {},
   "source": [
    "### Классы\n",
    "Создаем ракетный корабль, у которого ракета движется с одних координат на другие."
   ]
  },
  {
   "cell_type": "code",
   "execution_count": 1,
   "metadata": {},
   "outputs": [],
   "source": [
    "class Rocket():\n",
    "    \n",
    "    # Rocket simulates a rocket shop for a game,\n",
    "    # or a physics simulation\n",
    "    \n",
    "    def __init__(self):\n",
    "        # Each rocket has an (x, y) position\n",
    "        \n",
    "        self.x = 0\n",
    "        self.y = 0\n",
    "        "
   ]
  },
  {
   "cell_type": "markdown",
   "metadata": {},
   "source": [
    "Первое, что мы делаем, - определяем метод __init__. Метод init устанавливает значения любых параметров, которые необходимо определить при первом создании объекта - те характеристики, которыми обладает наш объект, когда мы его создаем. Здесь: каждый раз, создавая ракету, она стоит на стартовой площадке по координатам (0, 0). Self получает получить доступ к переменной из любого места в классе."
   ]
  },
  {
   "cell_type": "markdown",
   "metadata": {},
   "source": [
    "Далее нужно определить основную способность ракеты - движение вверх."
   ]
  },
  {
   "cell_type": "code",
   "execution_count": 2,
   "metadata": {},
   "outputs": [],
   "source": [
    "class Rocket():\n",
    "    \n",
    "    # Rocket simulates a rocket shop for a game,\n",
    "    # or a physics simulation\n",
    "    \n",
    "    def __init__(self):\n",
    "        # Each rocket has an (x, y) position\n",
    "        \n",
    "        self.x = 0\n",
    "        self.y = 0\n",
    "        \n",
    "    def move_up(self):\n",
    "        # Increment the y-position of the rocket\n",
    "        \n",
    "        self.y += 1"
   ]
  },
  {
   "cell_type": "markdown",
   "metadata": {},
   "source": [
    "Мы создали класс. Далее нужно создать ракету."
   ]
  },
  {
   "cell_type": "code",
   "execution_count": 3,
   "metadata": {},
   "outputs": [
    {
     "name": "stdout",
     "output_type": "stream",
     "text": [
      "<__main__.Rocket object at 0x0000014D3C36FDF0>\n"
     ]
    }
   ],
   "source": [
    "my_rocket = Rocket()\n",
    "print(my_rocket)"
   ]
  },
  {
   "cell_type": "code",
   "execution_count": 4,
   "metadata": {},
   "outputs": [
    {
     "name": "stdout",
     "output_type": "stream",
     "text": [
      "Rocket altitude:  0\n",
      "Rocket altitude:  1\n",
      "Rocket altitude:  2\n"
     ]
    }
   ],
   "source": [
    "my_rocket = Rocket()\n",
    "print(\"Rocket altitude: \", my_rocket.y)\n",
    "print\n",
    "my_rocket.move_up()\n",
    "print(\"Rocket altitude: \", my_rocket.y)\n",
    "my_rocket.move_up()\n",
    "print(\"Rocket altitude: \", my_rocket.y)"
   ]
  },
  {
   "cell_type": "markdown",
   "metadata": {},
   "source": [
    "Для доступа к переменным и методам: пишем имя объекта и через точку переменную или метод. То есть чтобы получить значение y, пишем my_rocket.y, и будет выведено значение y. То же с методом: чтобы использовать метод move_up, пишем my_rocket.move_up()."
   ]
  },
  {
   "cell_type": "markdown",
   "metadata": {},
   "source": [
    "Таким образом, у класса объекта есть аттрибуты и методы. Например, есть кошка: атрибут - цвет шерсти, метод (то, что умеет делать) - переставлять лапки."
   ]
  },
  {
   "cell_type": "markdown",
   "metadata": {},
   "source": [
    "Как только задали класса объекта, можно создавать любое количество объектов. При этом конкретные действия каждого объекта не влияют на другие объекты."
   ]
  },
  {
   "cell_type": "markdown",
   "metadata": {},
   "source": [
    "Создаем флот из пяти ракет: то есть создаем список (list) из пяти ракет:"
   ]
  },
  {
   "cell_type": "code",
   "execution_count": 5,
   "metadata": {
    "scrolled": true
   },
   "outputs": [
    {
     "name": "stdout",
     "output_type": "stream",
     "text": [
      "<__main__.Rocket object at 0x0000014D3C2DC220>\n",
      "<__main__.Rocket object at 0x0000014D3C36C5E0>\n",
      "<__main__.Rocket object at 0x0000014D3C36D030>\n",
      "<__main__.Rocket object at 0x0000014D3C36F550>\n",
      "<__main__.Rocket object at 0x0000014D3C36F6D0>\n"
     ]
    }
   ],
   "source": [
    "my_rockets = []\n",
    "for x in range(5):\n",
    "    new_rocket = Rocket()\n",
    "    my_rockets.append(new_rocket)\n",
    "\n",
    "for rocket in my_rockets:\n",
    "    print(rocket)"
   ]
  },
  {
   "cell_type": "markdown",
   "metadata": {},
   "source": [
    "Наши 5 объектов не являются одним объектом, это 5 разных объектов (то есть ракет)."
   ]
  },
  {
   "cell_type": "code",
   "execution_count": 6,
   "metadata": {},
   "outputs": [
    {
     "data": {
      "text/plain": [
       "[<__main__.Rocket at 0x14d3c36ce80>,\n",
       " <__main__.Rocket at 0x14d3c36fd90>,\n",
       " <__main__.Rocket at 0x14d3c36d090>,\n",
       " <__main__.Rocket at 0x14d3c36c7f0>,\n",
       " <__main__.Rocket at 0x14d3c36db70>]"
      ]
     },
     "execution_count": 6,
     "metadata": {},
     "output_type": "execute_result"
    }
   ],
   "source": [
    "# То же через list comprehension:\n",
    "my_rockets = [Rocket() for x in range(5)]\n",
    "my_rockets"
   ]
  },
  {
   "cell_type": "markdown",
   "metadata": {},
   "source": [
    "Как сделать различные аттрибуты у пяти ракет:"
   ]
  },
  {
   "cell_type": "code",
   "execution_count": 7,
   "metadata": {},
   "outputs": [
    {
     "name": "stdout",
     "output_type": "stream",
     "text": [
      "Rocket altitude:  1\n",
      "Rocket altitude:  0\n",
      "Rocket altitude:  0\n",
      "Rocket altitude:  0\n",
      "Rocket altitude:  0\n"
     ]
    }
   ],
   "source": [
    "my_rockets[0].move_up()\n",
    "\n",
    "for rocket in my_rockets:\n",
    "    print(\"Rocket altitude: \", rocket.y)"
   ]
  },
  {
   "cell_type": "markdown",
   "metadata": {},
   "source": [
    "Объектно-ориентированное программирование ориентируется на создании блоков кода, которые многократно используются - классов. Когда создаем класс, создаем объект - поэтому объектно-ориентированное."
   ]
  },
  {
   "cell_type": "markdown",
   "metadata": {},
   "source": [
    "#### Основная терминология ООП\n",
    "Класс - тело кода, определяющее аттрибуты и поведение, необходимые для моделирования того, что нам нужно для нашей программы. Аттрибут - переменная, являющаяся частью класса. Поведение (метод) - действие, определенное внутри класса. Методы - функции, определенные для класса. Объект имеет определенный набор для всех аттрибутов. Можно создавать любое количество объектов."
   ]
  },
  {
   "cell_type": "markdown",
   "metadata": {},
   "source": [
    "Таким образом, для ракеты (класса Rocket): x и y - аттрибуты класса, move_up - поведение или метод, my_rockets - список объектов класса Rocket. Self - синтаксис, который позволяет обращаться к переменным внутри класса."
   ]
  },
  {
   "cell_type": "markdown",
   "metadata": {},
   "source": [
    "Для создания класса: class Rocket():"
   ]
  },
  {
   "cell_type": "markdown",
   "metadata": {},
   "source": [
    "Правила наименования класса - CamelCase - каждое слово начинается с большой буквы и пишется слитно без нижних подчеркиваний. Переменные - с маленькой буквы с нижними подчеркиваниями."
   ]
  },
  {
   "cell_type": "markdown",
   "metadata": {},
   "source": [
    "Хорошая практика - написание комментария после создания класса.\n",
    "PEP257 - как документируются классы."
   ]
  },
  {
   "cell_type": "markdown",
   "metadata": {},
   "source": [
    "Метод __init__ (вначале и в конце по два нижних подчеркивания) - это инициализация. Когда создаем объект класса, происходит инициализация его аттрибутов. Метод init созволяет убедиться, что все соответствующие аттрибуты установлены в свои правильные значения, когда объект создается, прежде чем он будет использоваться. То есть метод init выполняеется, когда мы создаем новый объект класса. Init - вспомогательная функци, все вспомогательные функции начинаются и заканчиваются нижним подчеркиванием."
   ]
  },
  {
   "cell_type": "markdown",
   "metadata": {},
   "source": [
    "Self относится к текущему объекту, когда мы с ним работаем. Когда мы пишем класс, self позволяет ссылаться на аттрибуты из любой части этого класса. Мне методы в классе нужнаются в self в качестве первого аргумента (например, move_up(self))."
   ]
  },
  {
   "cell_type": "markdown",
   "metadata": {},
   "source": [
    "Метод - это функция, поэтому мы можем работать с методом как с функцией. Например, это может быть функция, которая возвращает значения. Каждый метод должен принимать один аргумент по умолчанию - значение self (аргумент self)."
   ]
  },
  {
   "cell_type": "markdown",
   "metadata": {},
   "source": [
    "Улучшаем класс Rocket: добавляем параметры в метод init и добавляем методы. Чтобы задать конктретные значения для наших параметров x и y, лучше написать значения в методе init радом в скобках: def __init__(self, x = 0, y = 0)."
   ]
  },
  {
   "cell_type": "code",
   "execution_count": 8,
   "metadata": {},
   "outputs": [],
   "source": [
    "class Rocket():\n",
    "    \n",
    "    # Rocket simulates a rocket shop for a game,\n",
    "    # or a physics simulation\n",
    "    \n",
    "    def __init__(self, x=0, y=0):\n",
    "        # Each rocket has an (x, y) position\n",
    "        \n",
    "        self.x = x\n",
    "        self.y = y\n",
    "        \n",
    "    def move_up(self):\n",
    "        # Increment the y-position of the rocket\n",
    "        \n",
    "        self.y += 1"
   ]
  },
  {
   "cell_type": "code",
   "execution_count": 9,
   "metadata": {},
   "outputs": [
    {
     "name": "stdout",
     "output_type": "stream",
     "text": [
      "Rocket 0 is at (0, 0).\n",
      "Rocket 1 is at (0, 10).\n",
      "Rocket 2 is at (100, 0).\n"
     ]
    }
   ],
   "source": [
    "rockets = []\n",
    "\n",
    "rockets.append(Rocket())\n",
    "rockets.append(Rocket(0, 10))  # Задали другое начальное значение\n",
    "rockets.append(Rocket(100, 0))\n",
    "\n",
    "for index, rocket in enumerate(rockets):\n",
    "    print(\"Rocket %d is at (%d, %d).\" % (index, rocket.x, rocket.y))"
   ]
  },
  {
   "cell_type": "markdown",
   "metadata": {},
   "source": [
    "Добавим более удобный метод: чтобы можно было перемещать рокету на нужное количество значений x и y. Параметры для новой функции будут не x и y, а x_increment и y_increment:"
   ]
  },
  {
   "cell_type": "code",
   "execution_count": 10,
   "metadata": {},
   "outputs": [],
   "source": [
    "class Rocket():\n",
    "    \n",
    "    # Rocket simulates a rocket shop for a game,\n",
    "    # or a physics simulation\n",
    "    \n",
    "    def __init__(self, x=0, y=0):\n",
    "        # Each rocket has an (x, y) position\n",
    "        \n",
    "        self.x = x\n",
    "        self.y = y\n",
    "        \n",
    "    def move_rocket(self, x_increment=0, y_increment=1):\n",
    "        # Increment the y-position of the rocket\n",
    "        \n",
    "        self.x += x_increment\n",
    "        self.y += y_increment"
   ]
  },
  {
   "cell_type": "code",
   "execution_count": 11,
   "metadata": {},
   "outputs": [
    {
     "name": "stdout",
     "output_type": "stream",
     "text": [
      "Rocket 0 is at (0, 1).\n",
      "Rocket 1 is at (10, 10).\n",
      "Rocket 2 is at (-10, 0).\n"
     ]
    }
   ],
   "source": [
    "rockets = [Rocket() for x in range(3)]\n",
    "\n",
    "rockets[0].move_rocket()\n",
    "rockets[1].move_rocket(10, 10)\n",
    "rockets[2].move_rocket(-10, 0)\n",
    "\n",
    "for index, rocket in enumerate(rockets):\n",
    "    print(\"Rocket %d is at (%d, %d).\" % (index, rocket.x, rocket.y))"
   ]
  },
  {
   "cell_type": "markdown",
   "metadata": {},
   "source": [
    "Добавим метод, который будет рассчитывать расстояние от одной ракеты до другой ракеты. Метод будет выполнять вычисление, а потом возвращать это вычисление как результат."
   ]
  },
  {
   "cell_type": "code",
   "execution_count": 12,
   "metadata": {},
   "outputs": [],
   "source": [
    "from math import sqrt\n",
    "class Rocket():\n",
    "    \n",
    "    # Rocket simulates a rocket shop for a game,\n",
    "    # or a physics simulation\n",
    "    \n",
    "    def __init__(self, x=0, y=0):\n",
    "        # Each rocket has an (x, y) position\n",
    "        \n",
    "        self.x = x\n",
    "        self.y = y\n",
    "        \n",
    "    def move_rocket(self, x_increment=0, y_increment=1):\n",
    "        # Moving behavior\n",
    "        \n",
    "        self.x += x_increment\n",
    "        self.y += y_increment\n",
    "    \n",
    "    def get_distance(self, other_rocket):\n",
    "        # Calculates the distance from this rocket to another,\n",
    "        # and returns that value\n",
    "        \n",
    "        distance = sqrt((self.x - other_rocket.x)**2 + (self.y - other_rocket.y)**2)\n",
    "        return distance\n",
    "    "
   ]
  },
  {
   "cell_type": "code",
   "execution_count": 13,
   "metadata": {},
   "outputs": [
    {
     "name": "stdout",
     "output_type": "stream",
     "text": [
      "The rockets are 11.180340 units apart.\n"
     ]
    }
   ],
   "source": [
    "rocket_0 = Rocket(10, 5)\n",
    "rocket_1 = Rocket()\n",
    "\n",
    "distance = rocket_1.get_distance(rocket_0)\n",
    "\n",
    "print(\"The rockets are %f units apart.\" % distance)"
   ]
  },
  {
   "cell_type": "markdown",
   "metadata": {},
   "source": [
    "Наследование. Одна из целей ООП - создание стабильного надежного кода. Один класс может наследоваться от другого класса. Новый класс будет наследовать все оттрибуты и поведение родительского класса. Новый класс может переопределить любые аттрибуты или поведение родительского класса, а может добавить любые новые аттрибуты или поведение."
   ]
  },
  {
   "cell_type": "markdown",
   "metadata": {},
   "source": [
    "Исходный класс - родительский класс - суперкласс (superclass). Новый класс - дочерний класс - подкласс (subclass)"
   ]
  },
  {
   "cell_type": "markdown",
   "metadata": {},
   "source": [
    "Создадим новый класс Shattle на основе класса Rocket. Важная характеристика шаттла - то, что его можно использовать повторно. Остальные характеристики соответствуют родительскому классу. Поэтому в новый класс добавим только записать количества полетов."
   ]
  },
  {
   "cell_type": "code",
   "execution_count": 14,
   "metadata": {},
   "outputs": [],
   "source": [
    "from math import sqrt\n",
    "class Rocket():\n",
    "    \n",
    "    # Rocket simulates a rocket shop for a game,\n",
    "    # or a physics simulation\n",
    "    \n",
    "    def __init__(self, x=0, y=0):\n",
    "        # Each rocket has an (x, y) position\n",
    "        \n",
    "        self.x = x\n",
    "        self.y = y\n",
    "        \n",
    "    def move_rocket(self, x_increment=0, y_increment=1):\n",
    "        # Moving behavior\n",
    "        \n",
    "        self.x += x_increment\n",
    "        self.y += y_increment\n",
    "    \n",
    "    def get_distance(self, other_rocket):\n",
    "        # Calculates the distance from this rocket to another,\n",
    "        # and returns that value\n",
    "        \n",
    "        distance = sqrt((self.x - other_rocket.x)**2 + (self.y - other_rocket.y)**2)\n",
    "        return distance\n",
    "    \n",
    "class Shuttle(Rocket):\n",
    "    \n",
    "    def __init__(self, x=0, y=0, flights_completed=0):\n",
    "        super().__init__(x, y)  # Rocket.__init__(self, x, y)\n",
    "        self.flights_completed = flights_completed"
   ]
  },
  {
   "cell_type": "code",
   "execution_count": 15,
   "metadata": {},
   "outputs": [
    {
     "name": "stdout",
     "output_type": "stream",
     "text": [
      "<__main__.Shuttle object at 0x0000014D3C2A4970>\n"
     ]
    }
   ],
   "source": [
    "shuttle = Shuttle(10, 0, 3)\n",
    "\n",
    "print(shuttle)"
   ]
  },
  {
   "cell_type": "markdown",
   "metadata": {},
   "source": [
    "При создании дочернего класса родительский класс указывается в скобках: class Shuttle(Rocket):"
   ]
  },
  {
   "cell_type": "markdown",
   "metadata": {},
   "source": [
    "Далее при задании аттрибутов методом init нужно сначала инициализировать родительские аттрибуты: super().__init__(x, y) или Rocket.__init__(self, x, y): это говорит о том, что новый класс обладает всеми родительскими характеристиками (аттрибутами и методами)."
   ]
  },
  {
   "cell_type": "code",
   "execution_count": 16,
   "metadata": {},
   "outputs": [],
   "source": [
    "from random import randint  # randint возвращает псевдо рандомное число в указанном диапазоне\n",
    "\n",
    "shuttles = []\n",
    "\n",
    "for x in range(3):\n",
    "    x = randint(0, 100)\n",
    "    y = randint(1, 100)\n",
    "    flights_completed = randint(0, 10)\n",
    "    shuttles.append(Shuttle(x, y, flights_completed))\n",
    "    \n",
    "rockets = []\n",
    "for x in range(3):\n",
    "    x = randint(0, 100)\n",
    "    y = randint(1, 100)\n",
    "    rockets.append(Rocket(x, y))\n",
    "    "
   ]
  },
  {
   "cell_type": "code",
   "execution_count": 17,
   "metadata": {},
   "outputs": [
    {
     "name": "stdout",
     "output_type": "stream",
     "text": [
      "Shuttle 0 has completed 4 flights.\n",
      "Shuttle 1 has completed 7 flights.\n",
      "Shuttle 2 has completed 6 flights.\n",
      "\n",
      "\n",
      "The first shuttle is 0.000000 units away from shuttle 0.\n",
      "The first shuttle is 54.000000 units away from shuttle 1.\n",
      "The first shuttle is 95.880134 units away from shuttle 2.\n"
     ]
    }
   ],
   "source": [
    "for index, shuttle in enumerate(shuttles):\n",
    "    print(\"Shuttle %d has completed %d flights.\" % (index, shuttle.flights_completed))\n",
    "    \n",
    "print(\"\\n\")\n",
    "first_shuttle = shuttles[0]\n",
    "for index, shuttle in enumerate(shuttles):\n",
    "    distance = first_shuttle.get_distance(shuttle)\n",
    "    print(\"The first shuttle is %f units away from shuttle %d.\" % (distance, index))  "
   ]
  },
  {
   "cell_type": "code",
   "execution_count": 18,
   "metadata": {},
   "outputs": [
    {
     "name": "stdout",
     "output_type": "stream",
     "text": [
      "The first shuttle is 95.880134 units away from rocket 0.\n",
      "The first shuttle is 95.880134 units away from rocket 1.\n",
      "The first shuttle is 95.880134 units away from rocket 2.\n"
     ]
    }
   ],
   "source": [
    "for index, rocket in enumerate(rockets):\n",
    "    distance = first_shuttle.get_distance(shuttle)\n",
    "    print(\"The first shuttle is %f units away from rocket %d.\" % (distance, index))"
   ]
  },
  {
   "cell_type": "markdown",
   "metadata": {},
   "source": [
    "Нашла прикольную штуку:"
   ]
  },
  {
   "cell_type": "code",
   "execution_count": 1,
   "metadata": {},
   "outputs": [],
   "source": [
    "# Переопределяю класс Person()\n",
    "class Person():\n",
    "    # Person() describes a person with a name, of a certain age and from a certain place.\n",
    "    \n",
    "    def __init__(self, name, age, place):\n",
    "        \n",
    "        # Each person has a name, age and a place of birth.\n",
    "        \n",
    "        self.name = str(name)\n",
    "        self.age = int(age)\n",
    "        self.place = str(place)\n",
    "        \n",
    "    def __str__(self):\n",
    "        return f\"{self.name} is {self.age} years old.\"\n",
    "        # Нашла прикольную штуку\n",
    "    \n",
    "    def introduce_yourself(self):\n",
    "        print(\"Hello, my name is \" + self.name + \". I'm from \" + self.place + \".\")\n",
    "    \n",
    "    def age_person(self):\n",
    "        self.age += 1"
   ]
  },
  {
   "cell_type": "code",
   "execution_count": 2,
   "metadata": {},
   "outputs": [
    {
     "name": "stdout",
     "output_type": "stream",
     "text": [
      "Pavel is 25 years old.\n"
     ]
    }
   ],
   "source": [
    "second_person = Person(\"Pavel\", 25, \"St.Petersburg\")\n",
    "print(second_person)"
   ]
  },
  {
   "cell_type": "code",
   "execution_count": 3,
   "metadata": {},
   "outputs": [
    {
     "name": "stdout",
     "output_type": "stream",
     "text": [
      "Hello, my name is Pavel. I'm from St.Petersburg.\n"
     ]
    }
   ],
   "source": [
    "second_person.introduce_yourself()"
   ]
  },
  {
   "cell_type": "code",
   "execution_count": null,
   "metadata": {},
   "outputs": [],
   "source": []
  }
 ],
 "metadata": {
  "kernelspec": {
   "display_name": "Python 3 (ipykernel)",
   "language": "python",
   "name": "python3"
  },
  "language_info": {
   "codemirror_mode": {
    "name": "ipython",
    "version": 3
   },
   "file_extension": ".py",
   "mimetype": "text/x-python",
   "name": "python",
   "nbconvert_exporter": "python",
   "pygments_lexer": "ipython3",
   "version": "3.10.9"
  }
 },
 "nbformat": 4,
 "nbformat_minor": 2
}
