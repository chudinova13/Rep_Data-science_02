{
 "cells": [
  {
   "cell_type": "markdown",
   "id": "4d20b408",
   "metadata": {},
   "source": [
    "## Класс человека\n",
    "Моделирование человека — классическое упражнение для людей, которые пытаются научиться писать классы. Мы все знакомы с характеристиками и поведением людей, поэтому стоит попробовать это упражнение.\n",
    "* Определите класс Person().\n",
    "* В функции __init()__ определите несколько атрибутов человека. Хорошими атрибутами, которые следует учитывать, являются имя, возраст, место рождения и все, что вам нужно знать о людях в вашей жизни. Не менее 3 атрибутов.\n",
    "* Напишите один метод. Это может быть просто introduce_yourself(). Этот метод выводит такое утверждение, как «Здравствуйте, меня зовут Эрик».\n",
    "* Вы также можете создать такой метод, как age_person(). Простая версия этого метода просто добавит 1 к возрасту человека.\n",
    "* Создайте человека, установите соответствующие значения атрибутов и выведите информацию о человеке.\n",
    "* Вызовите свой метод для человека, которого вы создали. Убедитесь, что ваш метод выполняется правильно; если метод ничего не выводит напрямую, напечатайте что-нибудь до и после вызова метода, чтобы убедиться, что он сделал то, что предполагалось."
   ]
  },
  {
   "cell_type": "code",
   "execution_count": 1,
   "id": "487e27d0",
   "metadata": {},
   "outputs": [],
   "source": [
    "class Person():\n",
    "    # Person() describes a person with a name, of a certain age and from a certain place.\n",
    "    \n",
    "    def __init__(self, name, age, place):\n",
    "        \n",
    "        # Each person has a name, age and a place of birth.\n",
    "        \n",
    "        self.name = name\n",
    "        self.age = age\n",
    "        self.place = place\n",
    "    \n",
    "    def introduce_yourself(self):\n",
    "        print(\"Hello, my name is \" + self.name + \". I'm from \" + self.place + \".\")\n",
    "        # Allows a person to introduce himself by stating his name and his age.\n",
    "    \n",
    "    def age_person(self):\n",
    "        self.age += 1\n",
    "        # Ages a person by one year.\n",
    "    \n",
    "    def move_to(self, place):\n",
    "        print(\"Now \" + self.name + \" lives in \" + place + \".\")\n",
    "        # Gives the information where a person now lives."
   ]
  },
  {
   "cell_type": "code",
   "execution_count": 2,
   "id": "4ddfcae3",
   "metadata": {},
   "outputs": [
    {
     "name": "stdout",
     "output_type": "stream",
     "text": [
      "Erik\n",
      "25\n",
      "Berlin\n"
     ]
    }
   ],
   "source": [
    "first_person = Person(\"Erik\", 25, \"Berlin\")\n",
    "print(first_person.name)\n",
    "print(first_person.age)\n",
    "print(first_person.place)"
   ]
  },
  {
   "cell_type": "code",
   "execution_count": 3,
   "id": "9b9efbc3",
   "metadata": {},
   "outputs": [
    {
     "name": "stdout",
     "output_type": "stream",
     "text": [
      "<__main__.Person object at 0x000001AA449CDC60>\n"
     ]
    }
   ],
   "source": [
    "print(first_person)"
   ]
  },
  {
   "cell_type": "code",
   "execution_count": 4,
   "id": "0c860771",
   "metadata": {},
   "outputs": [
    {
     "name": "stdout",
     "output_type": "stream",
     "text": [
      "Hello, my name is Erik. I'm from Berlin.\n"
     ]
    }
   ],
   "source": [
    "first_person.introduce_yourself()"
   ]
  },
  {
   "cell_type": "code",
   "execution_count": 5,
   "id": "44d85334",
   "metadata": {},
   "outputs": [
    {
     "name": "stdout",
     "output_type": "stream",
     "text": [
      "Erik is 25 years old.\n"
     ]
    }
   ],
   "source": [
    "print(first_person.name, \"is %d years old.\" % first_person.age)"
   ]
  },
  {
   "cell_type": "code",
   "execution_count": 6,
   "id": "ce1ae672",
   "metadata": {
    "scrolled": true
   },
   "outputs": [
    {
     "name": "stdout",
     "output_type": "stream",
     "text": [
      "Hello, my name is Erik. I'm from Berlin.\n",
      "Erik is 26 years old.\n",
      "Now Erik lives in St.Petersburg.\n"
     ]
    }
   ],
   "source": [
    "first_person.age_person()\n",
    "first_person.introduce_yourself()\n",
    "print(first_person.name, \"is %d years old.\" % first_person.age)\n",
    "first_person.move_to(\"St.Petersburg\")"
   ]
  },
  {
   "cell_type": "markdown",
   "id": "b0feab5a",
   "metadata": {},
   "source": [
    "## Студенческий класс\n",
    "\n",
    "* Начните с вашей программы из класса Person.\n",
    "* Создайте новый класс под названием Student, который наследуется от Person.\n",
    "* Определите некоторые качества, которые есть у учащегося, которых нет у других людей.\n",
    "    У учащегося есть школа, с которой он связан, год выпуска, средний балл и другие особые атрибуты.\n",
    "* Создайте объект Student и докажите, что вы правильно использовали наследование.\n",
    "* Установите некоторые значения атрибутов для учащегося, которые закодированы только в классе Person.\n",
    "* Установите некоторые значения атрибутов для учащегося, которые закодированы только в классе учащегося.\n",
    "* Выведите значения для всех этих атрибутов."
   ]
  },
  {
   "cell_type": "code",
   "execution_count": 7,
   "id": "543fece6",
   "metadata": {},
   "outputs": [],
   "source": [
    "class Student(Person):\n",
    "    \n",
    "    # Student(Person) is a subclass to a Person class;\n",
    "    # Student(Person) describes students graduated from a school in a certain year with a certain grade average.\n",
    "    \n",
    "    def __init__(self, name, age, place, school_number, grad_year, grade_average):\n",
    "        super().__init__(name, age, place)\n",
    "        self.school_number = school_number\n",
    "        self.grad_year = grad_year\n",
    "        self.grade_average = grade_average\n",
    "        # Each student has a name, age, place from a parent class,\n",
    "        # and also a school number, graduation year and his grade average.\n",
    "    \n",
    "    def improve_grade(self):\n",
    "        self.grade_average += 0.1\n",
    "        # Improves student's grade average by 0.1.  "
   ]
  },
  {
   "cell_type": "code",
   "execution_count": 8,
   "id": "675fa0fd",
   "metadata": {},
   "outputs": [
    {
     "name": "stdout",
     "output_type": "stream",
     "text": [
      "<__main__.Student object at 0x000001AA449CF7C0>\n"
     ]
    }
   ],
   "source": [
    "first_student = Student(\"Pavel\", 21, \"Boston\", 565, 2021, 4.2)\n",
    "print(first_student)"
   ]
  },
  {
   "cell_type": "code",
   "execution_count": 9,
   "id": "8015e148",
   "metadata": {},
   "outputs": [
    {
     "name": "stdout",
     "output_type": "stream",
     "text": [
      "Hello, my name is Pavel. I'm from Boston.\n",
      "Pavel is 22 years old.\n",
      "Now Pavel lives in St.Petersburg.\n"
     ]
    }
   ],
   "source": [
    "first_student.age_person()\n",
    "first_student.introduce_yourself()\n",
    "print(first_student.name, \"is %d years old.\" % first_student.age)\n",
    "first_student.move_to(\"St.Petersburg\")"
   ]
  },
  {
   "cell_type": "code",
   "execution_count": 10,
   "id": "fbd7fff7",
   "metadata": {},
   "outputs": [
    {
     "name": "stdout",
     "output_type": "stream",
     "text": [
      "Pavel graduated in 2021 from a school № 565 with a GPA of 4.3\n"
     ]
    }
   ],
   "source": [
    "first_student.improve_grade()\n",
    "print(first_student.name, \"graduated in\", first_student.grad_year, \"from a school №\", first_student.school_number, \n",
    "      \"with a GPA of\", first_student.grade_average)"
   ]
  }
 ],
 "metadata": {
  "kernelspec": {
   "display_name": "Python 3 (ipykernel)",
   "language": "python",
   "name": "python3"
  },
  "language_info": {
   "codemirror_mode": {
    "name": "ipython",
    "version": 3
   },
   "file_extension": ".py",
   "mimetype": "text/x-python",
   "name": "python",
   "nbconvert_exporter": "python",
   "pygments_lexer": "ipython3",
   "version": "3.10.9"
  }
 },
 "nbformat": 4,
 "nbformat_minor": 5
}
